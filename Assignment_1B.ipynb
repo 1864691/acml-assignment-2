{
  "cells": [
    {
      "cell_type": "markdown",
      "metadata": {
        "id": "view-in-github",
        "colab_type": "text"
      },
      "source": [
        "<a href=\"https://colab.research.google.com/github/1864691/acml-assignment-2/blob/assignment_2/Assignment_1B.ipynb\" target=\"_parent\"><img src=\"https://colab.research.google.com/assets/colab-badge.svg\" alt=\"Open In Colab\"/></a>"
      ]
    },
    {
      "cell_type": "code",
      "execution_count": 2,
      "id": "3be5fece",
      "metadata": {
        "colab": {
          "base_uri": "https://localhost:8080/",
          "height": 364
        },
        "id": "3be5fece",
        "outputId": "253e2b23-9b3b-42e7-b893-0781e5704391"
      },
      "outputs": [
        {
          "output_type": "error",
          "ename": "FileNotFoundError",
          "evalue": "ignored",
          "traceback": [
            "\u001b[0;31m---------------------------------------------------------------------------\u001b[0m",
            "\u001b[0;31mFileNotFoundError\u001b[0m                         Traceback (most recent call last)",
            "\u001b[0;32m<ipython-input-2-d39639d49655>\u001b[0m in \u001b[0;36m<module>\u001b[0;34m()\u001b[0m\n\u001b[1;32m      8\u001b[0m \u001b[0;31m# this dataset is a representation of happiness by country\u001b[0m\u001b[0;34m\u001b[0m\u001b[0;34m\u001b[0m\u001b[0;34m\u001b[0m\u001b[0m\n\u001b[1;32m      9\u001b[0m \u001b[0;31m#explained by various features including GDP per capita, social support, health life expectancy and various others.\u001b[0m\u001b[0;34m\u001b[0m\u001b[0;34m\u001b[0m\u001b[0;34m\u001b[0m\u001b[0m\n\u001b[0;32m---> 10\u001b[0;31m \u001b[0mdataset\u001b[0m \u001b[0;34m=\u001b[0m \u001b[0mpd\u001b[0m\u001b[0;34m.\u001b[0m\u001b[0mread_csv\u001b[0m\u001b[0;34m(\u001b[0m\u001b[0;34m'World Happiness Report 2022.csv'\u001b[0m\u001b[0;34m)\u001b[0m\u001b[0;34m\u001b[0m\u001b[0;34m\u001b[0m\u001b[0m\n\u001b[0m\u001b[1;32m     11\u001b[0m \u001b[0mdataset\u001b[0m\u001b[0;34m\u001b[0m\u001b[0;34m\u001b[0m\u001b[0m\n",
            "\u001b[0;32m/usr/local/lib/python3.7/dist-packages/pandas/util/_decorators.py\u001b[0m in \u001b[0;36mwrapper\u001b[0;34m(*args, **kwargs)\u001b[0m\n\u001b[1;32m    309\u001b[0m                     \u001b[0mstacklevel\u001b[0m\u001b[0;34m=\u001b[0m\u001b[0mstacklevel\u001b[0m\u001b[0;34m,\u001b[0m\u001b[0;34m\u001b[0m\u001b[0;34m\u001b[0m\u001b[0m\n\u001b[1;32m    310\u001b[0m                 )\n\u001b[0;32m--> 311\u001b[0;31m             \u001b[0;32mreturn\u001b[0m \u001b[0mfunc\u001b[0m\u001b[0;34m(\u001b[0m\u001b[0;34m*\u001b[0m\u001b[0margs\u001b[0m\u001b[0;34m,\u001b[0m \u001b[0;34m**\u001b[0m\u001b[0mkwargs\u001b[0m\u001b[0;34m)\u001b[0m\u001b[0;34m\u001b[0m\u001b[0;34m\u001b[0m\u001b[0m\n\u001b[0m\u001b[1;32m    312\u001b[0m \u001b[0;34m\u001b[0m\u001b[0m\n\u001b[1;32m    313\u001b[0m         \u001b[0;32mreturn\u001b[0m \u001b[0mwrapper\u001b[0m\u001b[0;34m\u001b[0m\u001b[0;34m\u001b[0m\u001b[0m\n",
            "\u001b[0;32m/usr/local/lib/python3.7/dist-packages/pandas/io/parsers/readers.py\u001b[0m in \u001b[0;36mread_csv\u001b[0;34m(filepath_or_buffer, sep, delimiter, header, names, index_col, usecols, squeeze, prefix, mangle_dupe_cols, dtype, engine, converters, true_values, false_values, skipinitialspace, skiprows, skipfooter, nrows, na_values, keep_default_na, na_filter, verbose, skip_blank_lines, parse_dates, infer_datetime_format, keep_date_col, date_parser, dayfirst, cache_dates, iterator, chunksize, compression, thousands, decimal, lineterminator, quotechar, quoting, doublequote, escapechar, comment, encoding, encoding_errors, dialect, error_bad_lines, warn_bad_lines, on_bad_lines, delim_whitespace, low_memory, memory_map, float_precision, storage_options)\u001b[0m\n\u001b[1;32m    584\u001b[0m     \u001b[0mkwds\u001b[0m\u001b[0;34m.\u001b[0m\u001b[0mupdate\u001b[0m\u001b[0;34m(\u001b[0m\u001b[0mkwds_defaults\u001b[0m\u001b[0;34m)\u001b[0m\u001b[0;34m\u001b[0m\u001b[0;34m\u001b[0m\u001b[0m\n\u001b[1;32m    585\u001b[0m \u001b[0;34m\u001b[0m\u001b[0m\n\u001b[0;32m--> 586\u001b[0;31m     \u001b[0;32mreturn\u001b[0m \u001b[0m_read\u001b[0m\u001b[0;34m(\u001b[0m\u001b[0mfilepath_or_buffer\u001b[0m\u001b[0;34m,\u001b[0m \u001b[0mkwds\u001b[0m\u001b[0;34m)\u001b[0m\u001b[0;34m\u001b[0m\u001b[0;34m\u001b[0m\u001b[0m\n\u001b[0m\u001b[1;32m    587\u001b[0m \u001b[0;34m\u001b[0m\u001b[0m\n\u001b[1;32m    588\u001b[0m \u001b[0;34m\u001b[0m\u001b[0m\n",
            "\u001b[0;32m/usr/local/lib/python3.7/dist-packages/pandas/io/parsers/readers.py\u001b[0m in \u001b[0;36m_read\u001b[0;34m(filepath_or_buffer, kwds)\u001b[0m\n\u001b[1;32m    480\u001b[0m \u001b[0;34m\u001b[0m\u001b[0m\n\u001b[1;32m    481\u001b[0m     \u001b[0;31m# Create the parser.\u001b[0m\u001b[0;34m\u001b[0m\u001b[0;34m\u001b[0m\u001b[0;34m\u001b[0m\u001b[0m\n\u001b[0;32m--> 482\u001b[0;31m     \u001b[0mparser\u001b[0m \u001b[0;34m=\u001b[0m \u001b[0mTextFileReader\u001b[0m\u001b[0;34m(\u001b[0m\u001b[0mfilepath_or_buffer\u001b[0m\u001b[0;34m,\u001b[0m \u001b[0;34m**\u001b[0m\u001b[0mkwds\u001b[0m\u001b[0;34m)\u001b[0m\u001b[0;34m\u001b[0m\u001b[0;34m\u001b[0m\u001b[0m\n\u001b[0m\u001b[1;32m    483\u001b[0m \u001b[0;34m\u001b[0m\u001b[0m\n\u001b[1;32m    484\u001b[0m     \u001b[0;32mif\u001b[0m \u001b[0mchunksize\u001b[0m \u001b[0;32mor\u001b[0m \u001b[0miterator\u001b[0m\u001b[0;34m:\u001b[0m\u001b[0;34m\u001b[0m\u001b[0;34m\u001b[0m\u001b[0m\n",
            "\u001b[0;32m/usr/local/lib/python3.7/dist-packages/pandas/io/parsers/readers.py\u001b[0m in \u001b[0;36m__init__\u001b[0;34m(self, f, engine, **kwds)\u001b[0m\n\u001b[1;32m    809\u001b[0m             \u001b[0mself\u001b[0m\u001b[0;34m.\u001b[0m\u001b[0moptions\u001b[0m\u001b[0;34m[\u001b[0m\u001b[0;34m\"has_index_names\"\u001b[0m\u001b[0;34m]\u001b[0m \u001b[0;34m=\u001b[0m \u001b[0mkwds\u001b[0m\u001b[0;34m[\u001b[0m\u001b[0;34m\"has_index_names\"\u001b[0m\u001b[0;34m]\u001b[0m\u001b[0;34m\u001b[0m\u001b[0;34m\u001b[0m\u001b[0m\n\u001b[1;32m    810\u001b[0m \u001b[0;34m\u001b[0m\u001b[0m\n\u001b[0;32m--> 811\u001b[0;31m         \u001b[0mself\u001b[0m\u001b[0;34m.\u001b[0m\u001b[0m_engine\u001b[0m \u001b[0;34m=\u001b[0m \u001b[0mself\u001b[0m\u001b[0;34m.\u001b[0m\u001b[0m_make_engine\u001b[0m\u001b[0;34m(\u001b[0m\u001b[0mself\u001b[0m\u001b[0;34m.\u001b[0m\u001b[0mengine\u001b[0m\u001b[0;34m)\u001b[0m\u001b[0;34m\u001b[0m\u001b[0;34m\u001b[0m\u001b[0m\n\u001b[0m\u001b[1;32m    812\u001b[0m \u001b[0;34m\u001b[0m\u001b[0m\n\u001b[1;32m    813\u001b[0m     \u001b[0;32mdef\u001b[0m \u001b[0mclose\u001b[0m\u001b[0;34m(\u001b[0m\u001b[0mself\u001b[0m\u001b[0;34m)\u001b[0m\u001b[0;34m:\u001b[0m\u001b[0;34m\u001b[0m\u001b[0;34m\u001b[0m\u001b[0m\n",
            "\u001b[0;32m/usr/local/lib/python3.7/dist-packages/pandas/io/parsers/readers.py\u001b[0m in \u001b[0;36m_make_engine\u001b[0;34m(self, engine)\u001b[0m\n\u001b[1;32m   1038\u001b[0m             )\n\u001b[1;32m   1039\u001b[0m         \u001b[0;31m# error: Too many arguments for \"ParserBase\"\u001b[0m\u001b[0;34m\u001b[0m\u001b[0;34m\u001b[0m\u001b[0;34m\u001b[0m\u001b[0m\n\u001b[0;32m-> 1040\u001b[0;31m         \u001b[0;32mreturn\u001b[0m \u001b[0mmapping\u001b[0m\u001b[0;34m[\u001b[0m\u001b[0mengine\u001b[0m\u001b[0;34m]\u001b[0m\u001b[0;34m(\u001b[0m\u001b[0mself\u001b[0m\u001b[0;34m.\u001b[0m\u001b[0mf\u001b[0m\u001b[0;34m,\u001b[0m \u001b[0;34m**\u001b[0m\u001b[0mself\u001b[0m\u001b[0;34m.\u001b[0m\u001b[0moptions\u001b[0m\u001b[0;34m)\u001b[0m  \u001b[0;31m# type: ignore[call-arg]\u001b[0m\u001b[0;34m\u001b[0m\u001b[0;34m\u001b[0m\u001b[0m\n\u001b[0m\u001b[1;32m   1041\u001b[0m \u001b[0;34m\u001b[0m\u001b[0m\n\u001b[1;32m   1042\u001b[0m     \u001b[0;32mdef\u001b[0m \u001b[0m_failover_to_python\u001b[0m\u001b[0;34m(\u001b[0m\u001b[0mself\u001b[0m\u001b[0;34m)\u001b[0m\u001b[0;34m:\u001b[0m\u001b[0;34m\u001b[0m\u001b[0;34m\u001b[0m\u001b[0m\n",
            "\u001b[0;32m/usr/local/lib/python3.7/dist-packages/pandas/io/parsers/c_parser_wrapper.py\u001b[0m in \u001b[0;36m__init__\u001b[0;34m(self, src, **kwds)\u001b[0m\n\u001b[1;32m     49\u001b[0m \u001b[0;34m\u001b[0m\u001b[0m\n\u001b[1;32m     50\u001b[0m         \u001b[0;31m# open handles\u001b[0m\u001b[0;34m\u001b[0m\u001b[0;34m\u001b[0m\u001b[0;34m\u001b[0m\u001b[0m\n\u001b[0;32m---> 51\u001b[0;31m         \u001b[0mself\u001b[0m\u001b[0;34m.\u001b[0m\u001b[0m_open_handles\u001b[0m\u001b[0;34m(\u001b[0m\u001b[0msrc\u001b[0m\u001b[0;34m,\u001b[0m \u001b[0mkwds\u001b[0m\u001b[0;34m)\u001b[0m\u001b[0;34m\u001b[0m\u001b[0;34m\u001b[0m\u001b[0m\n\u001b[0m\u001b[1;32m     52\u001b[0m         \u001b[0;32massert\u001b[0m \u001b[0mself\u001b[0m\u001b[0;34m.\u001b[0m\u001b[0mhandles\u001b[0m \u001b[0;32mis\u001b[0m \u001b[0;32mnot\u001b[0m \u001b[0;32mNone\u001b[0m\u001b[0;34m\u001b[0m\u001b[0;34m\u001b[0m\u001b[0m\n\u001b[1;32m     53\u001b[0m \u001b[0;34m\u001b[0m\u001b[0m\n",
            "\u001b[0;32m/usr/local/lib/python3.7/dist-packages/pandas/io/parsers/base_parser.py\u001b[0m in \u001b[0;36m_open_handles\u001b[0;34m(self, src, kwds)\u001b[0m\n\u001b[1;32m    227\u001b[0m             \u001b[0mmemory_map\u001b[0m\u001b[0;34m=\u001b[0m\u001b[0mkwds\u001b[0m\u001b[0;34m.\u001b[0m\u001b[0mget\u001b[0m\u001b[0;34m(\u001b[0m\u001b[0;34m\"memory_map\"\u001b[0m\u001b[0;34m,\u001b[0m \u001b[0;32mFalse\u001b[0m\u001b[0;34m)\u001b[0m\u001b[0;34m,\u001b[0m\u001b[0;34m\u001b[0m\u001b[0;34m\u001b[0m\u001b[0m\n\u001b[1;32m    228\u001b[0m             \u001b[0mstorage_options\u001b[0m\u001b[0;34m=\u001b[0m\u001b[0mkwds\u001b[0m\u001b[0;34m.\u001b[0m\u001b[0mget\u001b[0m\u001b[0;34m(\u001b[0m\u001b[0;34m\"storage_options\"\u001b[0m\u001b[0;34m,\u001b[0m \u001b[0;32mNone\u001b[0m\u001b[0;34m)\u001b[0m\u001b[0;34m,\u001b[0m\u001b[0;34m\u001b[0m\u001b[0;34m\u001b[0m\u001b[0m\n\u001b[0;32m--> 229\u001b[0;31m             \u001b[0merrors\u001b[0m\u001b[0;34m=\u001b[0m\u001b[0mkwds\u001b[0m\u001b[0;34m.\u001b[0m\u001b[0mget\u001b[0m\u001b[0;34m(\u001b[0m\u001b[0;34m\"encoding_errors\"\u001b[0m\u001b[0;34m,\u001b[0m \u001b[0;34m\"strict\"\u001b[0m\u001b[0;34m)\u001b[0m\u001b[0;34m,\u001b[0m\u001b[0;34m\u001b[0m\u001b[0;34m\u001b[0m\u001b[0m\n\u001b[0m\u001b[1;32m    230\u001b[0m         )\n\u001b[1;32m    231\u001b[0m \u001b[0;34m\u001b[0m\u001b[0m\n",
            "\u001b[0;32m/usr/local/lib/python3.7/dist-packages/pandas/io/common.py\u001b[0m in \u001b[0;36mget_handle\u001b[0;34m(path_or_buf, mode, encoding, compression, memory_map, is_text, errors, storage_options)\u001b[0m\n\u001b[1;32m    705\u001b[0m                 \u001b[0mencoding\u001b[0m\u001b[0;34m=\u001b[0m\u001b[0mioargs\u001b[0m\u001b[0;34m.\u001b[0m\u001b[0mencoding\u001b[0m\u001b[0;34m,\u001b[0m\u001b[0;34m\u001b[0m\u001b[0;34m\u001b[0m\u001b[0m\n\u001b[1;32m    706\u001b[0m                 \u001b[0merrors\u001b[0m\u001b[0;34m=\u001b[0m\u001b[0merrors\u001b[0m\u001b[0;34m,\u001b[0m\u001b[0;34m\u001b[0m\u001b[0;34m\u001b[0m\u001b[0m\n\u001b[0;32m--> 707\u001b[0;31m                 \u001b[0mnewline\u001b[0m\u001b[0;34m=\u001b[0m\u001b[0;34m\"\"\u001b[0m\u001b[0;34m,\u001b[0m\u001b[0;34m\u001b[0m\u001b[0;34m\u001b[0m\u001b[0m\n\u001b[0m\u001b[1;32m    708\u001b[0m             )\n\u001b[1;32m    709\u001b[0m         \u001b[0;32melse\u001b[0m\u001b[0;34m:\u001b[0m\u001b[0;34m\u001b[0m\u001b[0;34m\u001b[0m\u001b[0m\n",
            "\u001b[0;31mFileNotFoundError\u001b[0m: [Errno 2] No such file or directory: 'World Happiness Report 2022.csv'"
          ]
        }
      ],
      "source": [
        "import numpy as np\n",
        "import matplotlib.pyplot as plt\n",
        "import pandas as pd\n",
        "from sklearn import preprocessing # used for feature scaling, standardisation, and regularization\n",
        "from sklearn.model_selection import train_test_split\n",
        "\n",
        "# Importing the dataset\n",
        "# this dataset is a representation of happiness by country \n",
        "#explained by various features including GDP per capita, social support, health life expectancy and various others. \n",
        "dataset = pd.read_csv('World Happiness Report 2022.csv')\n",
        "dataset"
      ]
    },
    {
      "cell_type": "code",
      "source": [
        "import numpy as np\n",
        "import matplotlib.pyplot as plt\n",
        "from sklearn.datasets import load_boston\n",
        "from sklearn.model_selection import train_test_split\n",
        "from sklearn.metrics import mean_squared_error\n",
        "import pandas as pd\n",
        "from sklearn import preprocessing # used for feature scaling, standardisation, and regularization\n",
        "\n",
        "def relu(z):\n",
        "    a = np.maximum(0,z)\n",
        "    return a\n",
        "\n",
        "def initialize_params(layer_sizes):\n",
        "    params = {}\n",
        "    for i in range(1, len(layer_sizes)):\n",
        "        params['W' + str(i)] = np.random.randn(layer_sizes[i], layer_sizes[i-1])*0.01\n",
        "        params['B' + str(i)] = np.random.randn(layer_sizes[i],1)*0.01\n",
        "    return params\n",
        "\n",
        "def forward_propagation(X_train, params):\n",
        "    layers = len(params)//2\n",
        "    values = {}\n",
        "    for i in range(1, layers+1):\n",
        "        if i==1:\n",
        "            values['Z' + str(i)] = np.dot(params['W' + str(i)], X_train) + params['B' + str(i)]\n",
        "            values['A' + str(i)] = relu(values['Z' + str(i)])\n",
        "        else:\n",
        "            values['Z' + str(i)] = np.dot(params['W' + str(i)], values['A' + str(i-1)]) + params['B' + str(i)]\n",
        "            if i==layers:\n",
        "                values['A' + str(i)] = values['Z' + str(i)]\n",
        "            else:\n",
        "                values['A' + str(i)] = relu(values['Z' + str(i)])\n",
        "    return values\n",
        "\n",
        "def compute_cost(values, Y_train):\n",
        "    layers = len(values)//2\n",
        "    Y_pred = values['A' + str(layers)]\n",
        "    cost = 1/(2*len(Y_train)) * np.sum(np.square(Y_pred - Y_train))\n",
        "    return cost\n",
        "\n",
        "def backward_propagation(params, values, X_train, Y_train):\n",
        "    layers = len(params)//2\n",
        "    m = len(Y_train)\n",
        "    grads = {}\n",
        "    for i in range(layers,0,-1):\n",
        "        if i==layers:\n",
        "            dA = 1/m * (values['A' + str(i)] - Y_train)\n",
        "            dZ = dA\n",
        "        else:\n",
        "            dA = np.dot(params['W' + str(i+1)].T, dZ)\n",
        "            dZ = np.multiply(dA, np.where(values['A' + str(i)]>=0, 1, 0))\n",
        "        if i==1:\n",
        "            grads['W' + str(i)] = 1/m * np.dot(dZ, X_train.T)\n",
        "            grads['B' + str(i)] = 1/m * np.sum(dZ, axis=1, keepdims=True)\n",
        "        else:\n",
        "            grads['W' + str(i)] = 1/m * np.dot(dZ,values['A' + str(i-1)].T)\n",
        "            grads['B' + str(i)] = 1/m * np.sum(dZ, axis=1, keepdims=True)\n",
        "    return grads\n",
        "\n",
        "def update_params(params, grads, learning_rate):\n",
        "    layers = len(params)//2\n",
        "    params_updated = {}\n",
        "    for i in range(1,layers+1):\n",
        "        params_updated['W' + str(i)] = params['W' + str(i)] - learning_rate * grads['W' + str(i)]\n",
        "        params_updated['B' + str(i)] = params['B' + str(i)] - learning_rate * grads['B' + str(i)]\n",
        "    return params_updated\n",
        "\n",
        "def model(X_train, Y_train, layer_sizes, num_iters, learning_rate):\n",
        "    params = initialize_params(layer_sizes)\n",
        "    for i in range(num_iters):\n",
        "        values = forward_propagation(X_train.T, params)\n",
        "        cost = compute_cost(values, Y_train.T)\n",
        "        grads = backward_propagation(params, values,X_train.T, Y_train.T)\n",
        "        params = update_params(params, grads, learning_rate)\n",
        "        print('Cost at iteration ' + str(i+1) + ' = ' + str(cost) + '\\n')\n",
        "    return params\n",
        "\n",
        "def compute_accuracy(X_train, X_test, Y_train, Y_test, params):\n",
        "    values_train = forward_propagation(X_train.T, params)\n",
        "    values_test = forward_propagation(X_test.T, params)\n",
        "    train_acc = np.sqrt(mean_squared_error(Y_train, values_train['A' + str(len(layer_sizes)-1)].T))\n",
        "    test_acc = np.sqrt(mean_squared_error(Y_test, values_test['A' + str(len(layer_sizes)-1)].T))\n",
        "    return train_acc, test_acc\n",
        "\n",
        "def predict(X, params):\n",
        "    values = forward_propagation(X.T, params)\n",
        "    predictions = values['A' + str(len(values)//2)].T\n",
        "    return predictions\n",
        "\n",
        "#data = load_boston()   \n",
        "data = np.read_csv('World Happiness Report 2022.csv')                             #load dataset\n",
        "X = dataset[['Explained by: GDP per capita','Explained by: Social support' ,'Explained by: Healthy life expectancy' ]] #separate data into input and output features\n",
        "y = dataset[['Happiness score']]                                                  \n",
        "X_train,X_test,Y_train,Y_test = train_test_split(X, Y, test_size = 0.2)           #split data into train and test sets in 80-20 ratio\n",
        "layer_sizes = [13, 5, 5, 1]                                                       #set layer sizes, do not change the size of the first and last layer \n",
        "num_iters = 1000                                                                  #set number of iterations over the training set(also known as epochs in batch gradient descent context)\n",
        "learning_rate = 0.03                                                              #set learning rate for gradient descent\n",
        "params = model(X_train, Y_train, layer_sizes, num_iters, learning_rate)           #train the model\n",
        "train_acc, test_acc = compute_accuracy(X_train, X_test, Y_train, Y_test, params)  #get training and test accuracy\n",
        "print('Root Mean Squared Error on Training Data = ' + str(train_acc))\n",
        "print('Root Mean Squared Error on Test Data = ' + str(test_acc))"
      ],
      "metadata": {
        "id": "p31RitgWp6EE",
        "outputId": "4428ae57-d87e-454d-f357-c5c05cb6e4f0",
        "colab": {
          "base_uri": "https://localhost:8080/",
          "height": 357
        }
      },
      "id": "p31RitgWp6EE",
      "execution_count": 3,
      "outputs": [
        {
          "output_type": "error",
          "ename": "AttributeError",
          "evalue": "ignored",
          "traceback": [
            "\u001b[0;31m---------------------------------------------------------------------------\u001b[0m",
            "\u001b[0;31mAttributeError\u001b[0m                            Traceback (most recent call last)",
            "\u001b[0;32m<ipython-input-3-bccce182d326>\u001b[0m in \u001b[0;36m<module>\u001b[0;34m()\u001b[0m\n\u001b[1;32m     89\u001b[0m \u001b[0;34m\u001b[0m\u001b[0m\n\u001b[1;32m     90\u001b[0m \u001b[0;31m#data = load_boston()\u001b[0m\u001b[0;34m\u001b[0m\u001b[0;34m\u001b[0m\u001b[0;34m\u001b[0m\u001b[0m\n\u001b[0;32m---> 91\u001b[0;31m \u001b[0mdata\u001b[0m \u001b[0;34m=\u001b[0m \u001b[0mnp\u001b[0m\u001b[0;34m.\u001b[0m\u001b[0mread_csv\u001b[0m\u001b[0;34m(\u001b[0m\u001b[0;34m'World Happiness Report 2022.csv'\u001b[0m\u001b[0;34m)\u001b[0m                             \u001b[0;31m#load dataset\u001b[0m\u001b[0;34m\u001b[0m\u001b[0;34m\u001b[0m\u001b[0m\n\u001b[0m\u001b[1;32m     92\u001b[0m \u001b[0mX\u001b[0m \u001b[0;34m=\u001b[0m \u001b[0mdataset\u001b[0m\u001b[0;34m[\u001b[0m\u001b[0;34m[\u001b[0m\u001b[0;34m'Explained by: GDP per capita'\u001b[0m\u001b[0;34m,\u001b[0m\u001b[0;34m'Explained by: Social support'\u001b[0m \u001b[0;34m,\u001b[0m\u001b[0;34m'Explained by: Healthy life expectancy'\u001b[0m \u001b[0;34m]\u001b[0m\u001b[0;34m]\u001b[0m \u001b[0;31m#separate data into input and output features\u001b[0m\u001b[0;34m\u001b[0m\u001b[0;34m\u001b[0m\u001b[0m\n\u001b[1;32m     93\u001b[0m \u001b[0my\u001b[0m \u001b[0;34m=\u001b[0m \u001b[0mdataset\u001b[0m\u001b[0;34m[\u001b[0m\u001b[0;34m[\u001b[0m\u001b[0;34m'Happiness score'\u001b[0m\u001b[0;34m]\u001b[0m\u001b[0;34m]\u001b[0m\u001b[0;34m\u001b[0m\u001b[0;34m\u001b[0m\u001b[0m\n",
            "\u001b[0;32m/usr/local/lib/python3.7/dist-packages/numpy/__init__.py\u001b[0m in \u001b[0;36m__getattr__\u001b[0;34m(attr)\u001b[0m\n\u001b[1;32m    312\u001b[0m \u001b[0;34m\u001b[0m\u001b[0m\n\u001b[1;32m    313\u001b[0m             raise AttributeError(\"module {!r} has no attribute \"\n\u001b[0;32m--> 314\u001b[0;31m                                  \"{!r}\".format(__name__, attr))\n\u001b[0m\u001b[1;32m    315\u001b[0m \u001b[0;34m\u001b[0m\u001b[0m\n\u001b[1;32m    316\u001b[0m         \u001b[0;32mdef\u001b[0m \u001b[0m__dir__\u001b[0m\u001b[0;34m(\u001b[0m\u001b[0;34m)\u001b[0m\u001b[0;34m:\u001b[0m\u001b[0;34m\u001b[0m\u001b[0;34m\u001b[0m\u001b[0m\n",
            "\u001b[0;31mAttributeError\u001b[0m: module 'numpy' has no attribute 'read_csv'"
          ]
        }
      ]
    },
    {
      "cell_type": "code",
      "execution_count": null,
      "id": "5ac95ee7",
      "metadata": {
        "id": "5ac95ee7",
        "outputId": "210c92b2-b924-4e6a-9030-b1a9fb59459a"
      },
      "outputs": [
        {
          "data": {
            "image/png": "[encoded data removed]",
            "text/plain": [
              "<Figure size 432x288 with 1 Axes>"
            ]
          },
          "metadata": {
            "needs_background": "light"
          },
          "output_type": "display_data"
        }
      ],
      "source": [
        "# plot the data\n",
        "# the data plotted here is the happiness scale explained by GDP per capita \n",
        "\n",
        "X1 = dataset.iloc[:, 6].values #get a copy of dataset GDP per capita\n",
        "Y = dataset.iloc[:, 2].values #get array of dataset in column happiness score\n",
        "plt.scatter(X1, Y, color = 'purple', marker = '*')\n",
        "plt.xlabel(\"Explained by GDP\")\n",
        "plt.ylabel(\"Happiness score\")\n",
        "plt.show()"
      ]
    },
    {
      "cell_type": "code",
      "execution_count": null,
      "id": "2b52132b",
      "metadata": {
        "id": "2b52132b",
        "outputId": "4868ecac-d07f-4b13-b69b-50b8e18fb08b"
      },
      "outputs": [
        {
          "data": {
            "image/png": "[encoded data removed]",
            "text/plain": [
              "<Figure size 432x288 with 1 Axes>"
            ]
          },
          "metadata": {
            "needs_background": "light"
          },
          "output_type": "display_data"
        }
      ],
      "source": [
        "# plot the data\n",
        "# the data plotted here is the happiness scale explained by social support \n",
        "\n",
        "X2 = dataset.iloc[:, 7].values #get a copy of dataset social support\n",
        "Y = dataset.iloc[:, 2].values #get array of dataset in column happiness score\n",
        "plt.scatter(X2, Y, color = 'purple', marker = '*')\n",
        "plt.xlabel(\"Explained by social support\")\n",
        "plt.ylabel(\"Happiness score\")\n",
        "plt.show()"
      ]
    },
    {
      "cell_type": "code",
      "execution_count": null,
      "id": "a8bd1bb8",
      "metadata": {
        "id": "a8bd1bb8",
        "outputId": "43c75cb0-81bc-454d-f52d-b98cc9bac60e"
      },
      "outputs": [
        {
          "data": {
            "image/png": "[encoded data removed]",
            "text/plain": [
              "<Figure size 432x288 with 1 Axes>"
            ]
          },
          "metadata": {
            "needs_background": "light"
          },
          "output_type": "display_data"
        }
      ],
      "source": [
        "# plot the data\n",
        "# the data plotted here is the happiness scale explained by health life expectancy \n",
        "\n",
        "X3 = dataset.iloc[:, 8].values #get a copy of dataset health life expectancy \n",
        "Y = dataset.iloc[:, 2].values #get array of dataset in column happiness score\n",
        "plt.scatter(X3, Y, color = 'purple', marker = '*')\n",
        "plt.xlabel(\"Explained by health life expectancy \")\n",
        "plt.ylabel(\"Happiness score\")\n",
        "plt.show()"
      ]
    },
    {
      "cell_type": "code",
      "execution_count": null,
      "id": "5fe82fda",
      "metadata": {
        "id": "5fe82fda"
      },
      "outputs": [],
      "source": [
        "#the above three plots with respect to various features can be observed \n",
        "#to be all of a similar shape and thus should all fit into a similar or the same regression plot"
      ]
    },
    {
      "cell_type": "code",
      "execution_count": null,
      "id": "bb8d778d",
      "metadata": {
        "id": "bb8d778d"
      },
      "outputs": [],
      "source": [
        "# Here we define x and y data to be split\n",
        "X = dataset[['Explained by: GDP per capita','Explained by: Social support' ,'Explained by: Healthy life expectancy' ]]\n",
        "y = dataset[['Happiness score']]"
      ]
    },
    {
      "cell_type": "code",
      "execution_count": null,
      "id": "8aec5819",
      "metadata": {
        "id": "8aec5819"
      },
      "outputs": [],
      "source": [
        "# we now split the data into training and testing datasets \n",
        "# the advantage of spliting the data is to ensure accuracy as the training data is previously seen \n",
        "# it is consistent/ predicatable thus we have the testing data that is unseen to ensure the model\n",
        "#fits both sets and will work on datasets that are new and unseen\n"
      ]
    },
    {
      "cell_type": "code",
      "execution_count": null,
      "id": "7380c00f",
      "metadata": {
        "id": "7380c00f"
      },
      "outputs": [],
      "source": [
        "# splitting the data into training data and testing data \n",
        "# training data split into 70% \n",
        "# testing data split into 30%\n",
        "\n",
        "X_train,X_test, y_train, y_test = train_test_split(X,y, test_size=0.3)"
      ]
    },
    {
      "cell_type": "code",
      "execution_count": null,
      "id": "a8a1731c",
      "metadata": {
        "id": "a8a1731c",
        "outputId": "65db502f-0860-46bb-f574-b708bcbc9c71"
      },
      "outputs": [
        {
          "data": {
            "text/plain": [
              "102"
            ]
          },
          "execution_count": 1091,
          "metadata": {},
          "output_type": "execute_result"
        }
      ],
      "source": [
        "len(X_train) #70% of the data "
      ]
    },
    {
      "cell_type": "code",
      "execution_count": null,
      "id": "01dd6c5e",
      "metadata": {
        "id": "01dd6c5e",
        "outputId": "0d20bf17-1e55-4b5d-9945-30aa2ceb1d3a"
      },
      "outputs": [
        {
          "data": {
            "text/plain": [
              "44"
            ]
          },
          "execution_count": 1092,
          "metadata": {},
          "output_type": "execute_result"
        }
      ],
      "source": [
        "len(X_test) #30% of the data "
      ]
    },
    {
      "cell_type": "code",
      "execution_count": null,
      "id": "dd76573a",
      "metadata": {
        "id": "dd76573a",
        "outputId": "111f586d-35fd-40c7-be81-4721bc96f244"
      },
      "outputs": [
        {
          "data": {
            "text/html": [
              "<div>\n",
              "<style scoped>\n",
              "    .dataframe tbody tr th:only-of-type {\n",
              "        vertical-align: middle;\n",
              "    }\n",
              "\n",
              "    .dataframe tbody tr th {\n",
              "        vertical-align: top;\n",
              "    }\n",
              "\n",
              "    .dataframe thead th {\n",
              "        text-align: right;\n",
              "    }\n",
              "</style>\n",
              "<table border=\"1\" class=\"dataframe\">\n",
              "  <thead>\n",
              "    <tr style=\"text-align: right;\">\n",
              "      <th></th>\n",
              "      <th>Explained by: GDP per capita</th>\n",
              "      <th>Explained by: Social support</th>\n",
              "      <th>Explained by: Healthy life expectancy</th>\n",
              "    </tr>\n",
              "  </thead>\n",
              "  <tbody>\n",
              "    <tr>\n",
              "      <th>30</th>\n",
              "      <td>1.834</td>\n",
              "      <td>1.052</td>\n",
              "      <td>0.801</td>\n",
              "    </tr>\n",
              "    <tr>\n",
              "      <th>83</th>\n",
              "      <td>0.984</td>\n",
              "      <td>0.784</td>\n",
              "      <td>0.499</td>\n",
              "    </tr>\n",
              "    <tr>\n",
              "      <th>59</th>\n",
              "      <td>1.268</td>\n",
              "      <td>0.912</td>\n",
              "      <td>0.514</td>\n",
              "    </tr>\n",
              "    <tr>\n",
              "      <th>2</th>\n",
              "      <td>1.936</td>\n",
              "      <td>1.320</td>\n",
              "      <td>0.803</td>\n",
              "    </tr>\n",
              "    <tr>\n",
              "      <th>124</th>\n",
              "      <td>1.274</td>\n",
              "      <td>0.786</td>\n",
              "      <td>0.197</td>\n",
              "    </tr>\n",
              "    <tr>\n",
              "      <th>...</th>\n",
              "      <td>...</td>\n",
              "      <td>...</td>\n",
              "      <td>...</td>\n",
              "    </tr>\n",
              "    <tr>\n",
              "      <th>87</th>\n",
              "      <td>1.094</td>\n",
              "      <td>0.442</td>\n",
              "      <td>0.322</td>\n",
              "    </tr>\n",
              "    <tr>\n",
              "      <th>39</th>\n",
              "      <td>1.668</td>\n",
              "      <td>1.220</td>\n",
              "      <td>0.611</td>\n",
              "    </tr>\n",
              "    <tr>\n",
              "      <th>58</th>\n",
              "      <td>1.851</td>\n",
              "      <td>0.886</td>\n",
              "      <td>0.841</td>\n",
              "    </tr>\n",
              "    <tr>\n",
              "      <th>140</th>\n",
              "      <td>0.839</td>\n",
              "      <td>0.848</td>\n",
              "      <td>0.000</td>\n",
              "    </tr>\n",
              "    <tr>\n",
              "      <th>88</th>\n",
              "      <td>1.505</td>\n",
              "      <td>0.863</td>\n",
              "      <td>0.637</td>\n",
              "    </tr>\n",
              "  </tbody>\n",
              "</table>\n",
              "<p>102 rows × 3 columns</p>\n",
              "</div>"
            ],
            "text/plain": [
              "     Explained by: GDP per capita  Explained by: Social support  \\\n",
              "30                          1.834                         1.052   \n",
              "83                          0.984                         0.784   \n",
              "59                          1.268                         0.912   \n",
              "2                           1.936                         1.320   \n",
              "124                         1.274                         0.786   \n",
              "..                            ...                           ...   \n",
              "87                          1.094                         0.442   \n",
              "39                          1.668                         1.220   \n",
              "58                          1.851                         0.886   \n",
              "140                         0.839                         0.848   \n",
              "88                          1.505                         0.863   \n",
              "\n",
              "     Explained by: Healthy life expectancy  \n",
              "30                                   0.801  \n",
              "83                                   0.499  \n",
              "59                                   0.514  \n",
              "2                                    0.803  \n",
              "124                                  0.197  \n",
              "..                                     ...  \n",
              "87                                   0.322  \n",
              "39                                   0.611  \n",
              "58                                   0.841  \n",
              "140                                  0.000  \n",
              "88                                   0.637  \n",
              "\n",
              "[102 rows x 3 columns]"
            ]
          },
          "execution_count": 1093,
          "metadata": {},
          "output_type": "execute_result"
        }
      ],
      "source": [
        "X_train #visualization of random sample data taken to be trained (same occurs for testing)"
      ]
    },
    {
      "cell_type": "code",
      "execution_count": null,
      "id": "c67711aa",
      "metadata": {
        "id": "c67711aa",
        "outputId": "38eaabbc-1c35-4e26-f76f-395dbf9321d2"
      },
      "outputs": [
        {
          "data": {
            "text/html": [
              "<div>\n",
              "<style scoped>\n",
              "    .dataframe tbody tr th:only-of-type {\n",
              "        vertical-align: middle;\n",
              "    }\n",
              "\n",
              "    .dataframe tbody tr th {\n",
              "        vertical-align: top;\n",
              "    }\n",
              "\n",
              "    .dataframe thead th {\n",
              "        text-align: right;\n",
              "    }\n",
              "</style>\n",
              "<table border=\"1\" class=\"dataframe\">\n",
              "  <thead>\n",
              "    <tr style=\"text-align: right;\">\n",
              "      <th></th>\n",
              "      <th>Explained by: GDP per capita</th>\n",
              "    </tr>\n",
              "  </thead>\n",
              "  <tbody>\n",
              "    <tr>\n",
              "      <th>30</th>\n",
              "      <td>1.834</td>\n",
              "    </tr>\n",
              "    <tr>\n",
              "      <th>83</th>\n",
              "      <td>0.984</td>\n",
              "    </tr>\n",
              "    <tr>\n",
              "      <th>59</th>\n",
              "      <td>1.268</td>\n",
              "    </tr>\n",
              "    <tr>\n",
              "      <th>2</th>\n",
              "      <td>1.936</td>\n",
              "    </tr>\n",
              "    <tr>\n",
              "      <th>124</th>\n",
              "      <td>1.274</td>\n",
              "    </tr>\n",
              "    <tr>\n",
              "      <th>...</th>\n",
              "      <td>...</td>\n",
              "    </tr>\n",
              "    <tr>\n",
              "      <th>87</th>\n",
              "      <td>1.094</td>\n",
              "    </tr>\n",
              "    <tr>\n",
              "      <th>39</th>\n",
              "      <td>1.668</td>\n",
              "    </tr>\n",
              "    <tr>\n",
              "      <th>58</th>\n",
              "      <td>1.851</td>\n",
              "    </tr>\n",
              "    <tr>\n",
              "      <th>140</th>\n",
              "      <td>0.839</td>\n",
              "    </tr>\n",
              "    <tr>\n",
              "      <th>88</th>\n",
              "      <td>1.505</td>\n",
              "    </tr>\n",
              "  </tbody>\n",
              "</table>\n",
              "<p>102 rows × 1 columns</p>\n",
              "</div>"
            ],
            "text/plain": [
              "     Explained by: GDP per capita\n",
              "30                          1.834\n",
              "83                          0.984\n",
              "59                          1.268\n",
              "2                           1.936\n",
              "124                         1.274\n",
              "..                            ...\n",
              "87                          1.094\n",
              "39                          1.668\n",
              "58                          1.851\n",
              "140                         0.839\n",
              "88                          1.505\n",
              "\n",
              "[102 rows x 1 columns]"
            ]
          },
          "execution_count": 1094,
          "metadata": {},
          "output_type": "execute_result"
        }
      ],
      "source": [
        "# here x_train_1 is defined in order to use as a single feature GDP per capita \n",
        "X_train_1 = X_train[[\"Explained by: GDP per capita\"]]\n",
        "X_train_1"
      ]
    },
    {
      "cell_type": "code",
      "execution_count": null,
      "id": "680fcc70",
      "metadata": {
        "id": "680fcc70",
        "outputId": "354ee351-2603-4f4b-f44e-aba27c617859"
      },
      "outputs": [
        {
          "data": {
            "text/html": [
              "<div>\n",
              "<style scoped>\n",
              "    .dataframe tbody tr th:only-of-type {\n",
              "        vertical-align: middle;\n",
              "    }\n",
              "\n",
              "    .dataframe tbody tr th {\n",
              "        vertical-align: top;\n",
              "    }\n",
              "\n",
              "    .dataframe thead th {\n",
              "        text-align: right;\n",
              "    }\n",
              "</style>\n",
              "<table border=\"1\" class=\"dataframe\">\n",
              "  <thead>\n",
              "    <tr style=\"text-align: right;\">\n",
              "      <th></th>\n",
              "      <th>Explained by: GDP per capita</th>\n",
              "    </tr>\n",
              "  </thead>\n",
              "  <tbody>\n",
              "    <tr>\n",
              "      <th>26</th>\n",
              "      <td>2.149</td>\n",
              "    </tr>\n",
              "    <tr>\n",
              "      <th>90</th>\n",
              "      <td>1.425</td>\n",
              "    </tr>\n",
              "    <tr>\n",
              "      <th>67</th>\n",
              "      <td>1.393</td>\n",
              "    </tr>\n",
              "    <tr>\n",
              "      <th>111</th>\n",
              "      <td>1.707</td>\n",
              "    </tr>\n",
              "    <tr>\n",
              "      <th>24</th>\n",
              "      <td>1.870</td>\n",
              "    </tr>\n",
              "    <tr>\n",
              "      <th>7</th>\n",
              "      <td>1.997</td>\n",
              "    </tr>\n",
              "    <tr>\n",
              "      <th>44</th>\n",
              "      <td>1.105</td>\n",
              "    </tr>\n",
              "    <tr>\n",
              "      <th>106</th>\n",
              "      <td>1.289</td>\n",
              "    </tr>\n",
              "    <tr>\n",
              "      <th>56</th>\n",
              "      <td>1.592</td>\n",
              "    </tr>\n",
              "    <tr>\n",
              "      <th>118</th>\n",
              "      <td>1.032</td>\n",
              "    </tr>\n",
              "    <tr>\n",
              "      <th>89</th>\n",
              "      <td>1.439</td>\n",
              "    </tr>\n",
              "    <tr>\n",
              "      <th>86</th>\n",
              "      <td>1.382</td>\n",
              "    </tr>\n",
              "    <tr>\n",
              "      <th>137</th>\n",
              "      <td>0.648</td>\n",
              "    </tr>\n",
              "    <tr>\n",
              "      <th>54</th>\n",
              "      <td>1.111</td>\n",
              "    </tr>\n",
              "    <tr>\n",
              "      <th>110</th>\n",
              "      <td>1.112</td>\n",
              "    </tr>\n",
              "    <tr>\n",
              "      <th>40</th>\n",
              "      <td>1.815</td>\n",
              "    </tr>\n",
              "    <tr>\n",
              "      <th>33</th>\n",
              "      <td>1.804</td>\n",
              "    </tr>\n",
              "    <tr>\n",
              "      <th>117</th>\n",
              "      <td>1.079</td>\n",
              "    </tr>\n",
              "    <tr>\n",
              "      <th>71</th>\n",
              "      <td>1.508</td>\n",
              "    </tr>\n",
              "    <tr>\n",
              "      <th>126</th>\n",
              "      <td>1.415</td>\n",
              "    </tr>\n",
              "    <tr>\n",
              "      <th>98</th>\n",
              "      <td>0.950</td>\n",
              "    </tr>\n",
              "    <tr>\n",
              "      <th>8</th>\n",
              "      <td>1.826</td>\n",
              "    </tr>\n",
              "    <tr>\n",
              "      <th>138</th>\n",
              "      <td>0.848</td>\n",
              "    </tr>\n",
              "    <tr>\n",
              "      <th>70</th>\n",
              "      <td>1.256</td>\n",
              "    </tr>\n",
              "    <tr>\n",
              "      <th>37</th>\n",
              "      <td>1.462</td>\n",
              "    </tr>\n",
              "    <tr>\n",
              "      <th>102</th>\n",
              "      <td>0.933</td>\n",
              "    </tr>\n",
              "    <tr>\n",
              "      <th>141</th>\n",
              "      <td>1.503</td>\n",
              "    </tr>\n",
              "    <tr>\n",
              "      <th>61</th>\n",
              "      <td>1.417</td>\n",
              "    </tr>\n",
              "    <tr>\n",
              "      <th>95</th>\n",
              "      <td>1.363</td>\n",
              "    </tr>\n",
              "    <tr>\n",
              "      <th>107</th>\n",
              "      <td>0.000</td>\n",
              "    </tr>\n",
              "    <tr>\n",
              "      <th>16</th>\n",
              "      <td>1.867</td>\n",
              "    </tr>\n",
              "    <tr>\n",
              "      <th>19</th>\n",
              "      <td>1.863</td>\n",
              "    </tr>\n",
              "    <tr>\n",
              "      <th>94</th>\n",
              "      <td>1.239</td>\n",
              "    </tr>\n",
              "    <tr>\n",
              "      <th>96</th>\n",
              "      <td>0.636</td>\n",
              "    </tr>\n",
              "    <tr>\n",
              "      <th>22</th>\n",
              "      <td>1.584</td>\n",
              "    </tr>\n",
              "    <tr>\n",
              "      <th>51</th>\n",
              "      <td>1.591</td>\n",
              "    </tr>\n",
              "    <tr>\n",
              "      <th>101</th>\n",
              "      <td>0.968</td>\n",
              "    </tr>\n",
              "    <tr>\n",
              "      <th>93</th>\n",
              "      <td>1.060</td>\n",
              "    </tr>\n",
              "    <tr>\n",
              "      <th>27</th>\n",
              "      <td>1.719</td>\n",
              "    </tr>\n",
              "    <tr>\n",
              "      <th>108</th>\n",
              "      <td>0.848</td>\n",
              "    </tr>\n",
              "    <tr>\n",
              "      <th>80</th>\n",
              "      <td>1.957</td>\n",
              "    </tr>\n",
              "    <tr>\n",
              "      <th>45</th>\n",
              "      <td>1.552</td>\n",
              "    </tr>\n",
              "    <tr>\n",
              "      <th>18</th>\n",
              "      <td>1.907</td>\n",
              "    </tr>\n",
              "    <tr>\n",
              "      <th>60</th>\n",
              "      <td>1.535</td>\n",
              "    </tr>\n",
              "  </tbody>\n",
              "</table>\n",
              "</div>"
            ],
            "text/plain": [
              "     Explained by: GDP per capita\n",
              "26                          2.149\n",
              "90                          1.425\n",
              "67                          1.393\n",
              "111                         1.707\n",
              "24                          1.870\n",
              "7                           1.997\n",
              "44                          1.105\n",
              "106                         1.289\n",
              "56                          1.592\n",
              "118                         1.032\n",
              "89                          1.439\n",
              "86                          1.382\n",
              "137                         0.648\n",
              "54                          1.111\n",
              "110                         1.112\n",
              "40                          1.815\n",
              "33                          1.804\n",
              "117                         1.079\n",
              "71                          1.508\n",
              "126                         1.415\n",
              "98                          0.950\n",
              "8                           1.826\n",
              "138                         0.848\n",
              "70                          1.256\n",
              "37                          1.462\n",
              "102                         0.933\n",
              "141                         1.503\n",
              "61                          1.417\n",
              "95                          1.363\n",
              "107                         0.000\n",
              "16                          1.867\n",
              "19                          1.863\n",
              "94                          1.239\n",
              "96                          0.636\n",
              "22                          1.584\n",
              "51                          1.591\n",
              "101                         0.968\n",
              "93                          1.060\n",
              "27                          1.719\n",
              "108                         0.848\n",
              "80                          1.957\n",
              "45                          1.552\n",
              "18                          1.907\n",
              "60                          1.535"
            ]
          },
          "execution_count": 1095,
          "metadata": {},
          "output_type": "execute_result"
        }
      ],
      "source": [
        "X_test_1 = X_test[[\"Explained by: GDP per capita\"]]\n",
        "X_test_1"
      ]
    },
    {
      "cell_type": "code",
      "execution_count": null,
      "id": "3d75daa3",
      "metadata": {
        "id": "3d75daa3",
        "outputId": "7abdd27a-fa5b-4220-cff8-1b1656c11aa8"
      },
      "outputs": [
        {
          "data": {
            "text/html": [
              "<div>\n",
              "<style scoped>\n",
              "    .dataframe tbody tr th:only-of-type {\n",
              "        vertical-align: middle;\n",
              "    }\n",
              "\n",
              "    .dataframe tbody tr th {\n",
              "        vertical-align: top;\n",
              "    }\n",
              "\n",
              "    .dataframe thead th {\n",
              "        text-align: right;\n",
              "    }\n",
              "</style>\n",
              "<table border=\"1\" class=\"dataframe\">\n",
              "  <thead>\n",
              "    <tr style=\"text-align: right;\">\n",
              "      <th></th>\n",
              "      <th>Happiness score</th>\n",
              "    </tr>\n",
              "  </thead>\n",
              "  <tbody>\n",
              "    <tr>\n",
              "      <th>30</th>\n",
              "      <td>6.467</td>\n",
              "    </tr>\n",
              "    <tr>\n",
              "      <th>83</th>\n",
              "      <td>5.377</td>\n",
              "    </tr>\n",
              "    <tr>\n",
              "      <th>59</th>\n",
              "      <td>5.904</td>\n",
              "    </tr>\n",
              "    <tr>\n",
              "      <th>2</th>\n",
              "      <td>7.557</td>\n",
              "    </tr>\n",
              "    <tr>\n",
              "      <th>124</th>\n",
              "      <td>4.396</td>\n",
              "    </tr>\n",
              "    <tr>\n",
              "      <th>...</th>\n",
              "      <td>...</td>\n",
              "    </tr>\n",
              "    <tr>\n",
              "      <th>87</th>\n",
              "      <td>5.235</td>\n",
              "    </tr>\n",
              "    <tr>\n",
              "      <th>39</th>\n",
              "      <td>6.234</td>\n",
              "    </tr>\n",
              "    <tr>\n",
              "      <th>58</th>\n",
              "      <td>5.935</td>\n",
              "    </tr>\n",
              "    <tr>\n",
              "      <th>140</th>\n",
              "      <td>3.512</td>\n",
              "    </tr>\n",
              "    <tr>\n",
              "      <th>88</th>\n",
              "      <td>5.199</td>\n",
              "    </tr>\n",
              "  </tbody>\n",
              "</table>\n",
              "<p>102 rows × 1 columns</p>\n",
              "</div>"
            ],
            "text/plain": [
              "     Happiness score\n",
              "30             6.467\n",
              "83             5.377\n",
              "59             5.904\n",
              "2              7.557\n",
              "124            4.396\n",
              "..               ...\n",
              "87             5.235\n",
              "39             6.234\n",
              "58             5.935\n",
              "140            3.512\n",
              "88             5.199\n",
              "\n",
              "[102 rows x 1 columns]"
            ]
          },
          "execution_count": 1096,
          "metadata": {},
          "output_type": "execute_result"
        }
      ],
      "source": [
        "y_train"
      ]
    },
    {
      "cell_type": "code",
      "source": [
        "import numpy as np\n",
        "import matplotlib.pyplot as plt\n",
        "from sklearn.datasets import load_boston\n",
        "from sklearn.model_selection import train_test_split\n",
        "from sklearn.metrics import mean_squared_error\n",
        "import pandas as pd\n",
        "from sklearn import preprocessing # used for feature scaling, standardisation, and regularization\n",
        "\n",
        "def relu(z):\n",
        "    a = np.maximum(0,z)\n",
        "    return a\n",
        "\n",
        "def initialize_params(layer_sizes):\n",
        "    params = {}\n",
        "    for i in range(1, len(layer_sizes)):\n",
        "        params['W' + str(i)] = np.random.randn(layer_sizes[i], layer_sizes[i-1])*0.01\n",
        "        params['B' + str(i)] = np.random.randn(layer_sizes[i],1)*0.01\n",
        "    return params\n",
        "\n",
        "def forward_propagation(X_train, params):\n",
        "    layers = len(params)//2\n",
        "    values = {}\n",
        "    for i in range(1, layers+1):\n",
        "        if i==1:\n",
        "            values['Z' + str(i)] = np.dot(params['W' + str(i)], X_train) + params['B' + str(i)]\n",
        "            values['A' + str(i)] = relu(values['Z' + str(i)])\n",
        "        else:\n",
        "            values['Z' + str(i)] = np.dot(params['W' + str(i)], values['A' + str(i-1)]) + params['B' + str(i)]\n",
        "            if i==layers:\n",
        "                values['A' + str(i)] = values['Z' + str(i)]\n",
        "            else:\n",
        "                values['A' + str(i)] = relu(values['Z' + str(i)])\n",
        "    return values\n",
        "\n",
        "def compute_cost(values, Y_train):\n",
        "    layers = len(values)//2\n",
        "    Y_pred = values['A' + str(layers)]\n",
        "    cost = 1/(2*len(Y_train)) * np.sum(np.square(Y_pred - Y_train))\n",
        "    return cost\n",
        "\n",
        "def backward_propagation(params, values, X_train, Y_train):\n",
        "    layers = len(params)//2\n",
        "    m = len(Y_train)\n",
        "    grads = {}\n",
        "    for i in range(layers,0,-1):\n",
        "        if i==layers:\n",
        "            dA = 1/m * (values['A' + str(i)] - Y_train)\n",
        "            dZ = dA\n",
        "        else:\n",
        "            dA = np.dot(params['W' + str(i+1)].T, dZ)\n",
        "            dZ = np.multiply(dA, np.where(values['A' + str(i)]>=0, 1, 0))\n",
        "        if i==1:\n",
        "            grads['W' + str(i)] = 1/m * np.dot(dZ, X_train.T)\n",
        "            grads['B' + str(i)] = 1/m * np.sum(dZ, axis=1, keepdims=True)\n",
        "        else:\n",
        "            grads['W' + str(i)] = 1/m * np.dot(dZ,values['A' + str(i-1)].T)\n",
        "            grads['B' + str(i)] = 1/m * np.sum(dZ, axis=1, keepdims=True)\n",
        "    return grads\n",
        "\n",
        "def update_params(params, grads, learning_rate):\n",
        "    layers = len(params)//2\n",
        "    params_updated = {}\n",
        "    for i in range(1,layers+1):\n",
        "        params_updated['W' + str(i)] = params['W' + str(i)] - learning_rate * grads['W' + str(i)]\n",
        "        params_updated['B' + str(i)] = params['B' + str(i)] - learning_rate * grads['B' + str(i)]\n",
        "    return params_updated\n",
        "\n",
        "def model(X_train, Y_train, layer_sizes, num_iters, learning_rate):\n",
        "    params = initialize_params(layer_sizes)\n",
        "    for i in range(num_iters):\n",
        "        values = forward_propagation(X_train.T, params)\n",
        "        cost = compute_cost(values, Y_train.T)\n",
        "        grads = backward_propagation(params, values,X_train.T, Y_train.T)\n",
        "        params = update_params(params, grads, learning_rate)\n",
        "        print('Cost at iteration ' + str(i+1) + ' = ' + str(cost) + '\\n')\n",
        "    return params\n",
        "\n",
        "def compute_accuracy(X_train, X_test, Y_train, Y_test, params):\n",
        "    values_train = forward_propagation(X_train.T, params)\n",
        "    values_test = forward_propagation(X_test.T, params)\n",
        "    train_acc = np.sqrt(mean_squared_error(Y_train, values_train['A' + str(len(layer_sizes)-1)].T))\n",
        "    test_acc = np.sqrt(mean_squared_error(Y_test, values_test['A' + str(len(layer_sizes)-1)].T))\n",
        "    return train_acc, test_acc\n",
        "\n",
        "def predict(X, params):\n",
        "    values = forward_propagation(X.T, params)\n",
        "    predictions = values['A' + str(len(values)//2)].T\n",
        "    return predictions\n",
        "\n",
        "#data = load_boston()   \n",
        "data = np.read_csv('World Happiness Report 2022.csv')                             #load dataset\n",
        "X = dataset[['Explained by: GDP per capita','Explained by: Social support' ,'Explained by: Healthy life expectancy' ]] #separate data into input and output features\n",
        "y = dataset[['Happiness score']]                                                  \n",
        "X_train,X_test,Y_train,Y_test = train_test_split(X, Y, test_size = 0.2)           #split data into train and test sets in 80-20 ratio\n",
        "layer_sizes = [13, 5, 5, 1]                                                       #set layer sizes, do not change the size of the first and last layer \n",
        "num_iters = 1000                                                                  #set number of iterations over the training set(also known as epochs in batch gradient descent context)\n",
        "learning_rate = 0.03                                                              #set learning rate for gradient descent\n",
        "params = model(X_train, Y_train, layer_sizes, num_iters, learning_rate)           #train the model\n",
        "train_acc, test_acc = compute_accuracy(X_train, X_test, Y_train, Y_test, params)  #get training and test accuracy\n",
        "print('Root Mean Squared Error on Training Data = ' + str(train_acc))\n",
        "print('Root Mean Squared Error on Test Data = ' + str(test_acc))"
      ],
      "metadata": {
        "colab": {
          "base_uri": "https://localhost:8080/",
          "height": 357
        },
        "id": "TcN4QTgKoNiX",
        "outputId": "68ff25ce-f257-4c10-8cf6-19969a34ad3d"
      },
      "id": "TcN4QTgKoNiX",
      "execution_count": null,
      "outputs": [
        {
          "output_type": "error",
          "ename": "AttributeError",
          "evalue": "ignored",
          "traceback": [
            "\u001b[0;31m---------------------------------------------------------------------------\u001b[0m",
            "\u001b[0;31mAttributeError\u001b[0m                            Traceback (most recent call last)",
            "\u001b[0;32m<ipython-input-8-260a0e5e52b5>\u001b[0m in \u001b[0;36m<module>\u001b[0;34m()\u001b[0m\n\u001b[1;32m     89\u001b[0m \u001b[0;34m\u001b[0m\u001b[0m\n\u001b[1;32m     90\u001b[0m \u001b[0;31m#data = load_boston()\u001b[0m\u001b[0;34m\u001b[0m\u001b[0;34m\u001b[0m\u001b[0;34m\u001b[0m\u001b[0m\n\u001b[0;32m---> 91\u001b[0;31m \u001b[0mdata\u001b[0m \u001b[0;34m=\u001b[0m \u001b[0mnp\u001b[0m\u001b[0;34m.\u001b[0m\u001b[0mread_csv\u001b[0m\u001b[0;34m(\u001b[0m\u001b[0;34m'World Happiness Report 2022.csv'\u001b[0m\u001b[0;34m)\u001b[0m                             \u001b[0;31m#load dataset\u001b[0m\u001b[0;34m\u001b[0m\u001b[0;34m\u001b[0m\u001b[0m\n\u001b[0m\u001b[1;32m     92\u001b[0m \u001b[0mX\u001b[0m \u001b[0;34m=\u001b[0m \u001b[0mdataset\u001b[0m\u001b[0;34m[\u001b[0m\u001b[0;34m[\u001b[0m\u001b[0;34m'Explained by: GDP per capita'\u001b[0m\u001b[0;34m,\u001b[0m\u001b[0;34m'Explained by: Social support'\u001b[0m \u001b[0;34m,\u001b[0m\u001b[0;34m'Explained by: Healthy life expectancy'\u001b[0m \u001b[0;34m]\u001b[0m\u001b[0;34m]\u001b[0m\u001b[0;34m\u001b[0m\u001b[0;34m\u001b[0m\u001b[0m\n\u001b[1;32m     93\u001b[0m \u001b[0my\u001b[0m \u001b[0;34m=\u001b[0m \u001b[0mdataset\u001b[0m\u001b[0;34m[\u001b[0m\u001b[0;34m[\u001b[0m\u001b[0;34m'Happiness score'\u001b[0m\u001b[0;34m]\u001b[0m\u001b[0;34m]\u001b[0m                                               \u001b[0;31m#separate data into input and output features\u001b[0m\u001b[0;34m\u001b[0m\u001b[0;34m\u001b[0m\u001b[0m\n",
            "\u001b[0;32m/usr/local/lib/python3.7/dist-packages/numpy/__init__.py\u001b[0m in \u001b[0;36m__getattr__\u001b[0;34m(attr)\u001b[0m\n\u001b[1;32m    312\u001b[0m \u001b[0;34m\u001b[0m\u001b[0m\n\u001b[1;32m    313\u001b[0m             raise AttributeError(\"module {!r} has no attribute \"\n\u001b[0;32m--> 314\u001b[0;31m                                  \"{!r}\".format(__name__, attr))\n\u001b[0m\u001b[1;32m    315\u001b[0m \u001b[0;34m\u001b[0m\u001b[0m\n\u001b[1;32m    316\u001b[0m         \u001b[0;32mdef\u001b[0m \u001b[0m__dir__\u001b[0m\u001b[0;34m(\u001b[0m\u001b[0;34m)\u001b[0m\u001b[0;34m:\u001b[0m\u001b[0;34m\u001b[0m\u001b[0;34m\u001b[0m\u001b[0m\n",
            "\u001b[0;31mAttributeError\u001b[0m: module 'numpy' has no attribute 'read_csv'"
          ]
        }
      ]
    },
    {
      "cell_type": "code",
      "execution_count": null,
      "id": "23f0a7c6",
      "metadata": {
        "id": "23f0a7c6"
      },
      "outputs": [],
      "source": [
        "from sklearn.linear_model import LinearRegression\n",
        "\n",
        "clf = LinearRegression()"
      ]
    },
    {
      "cell_type": "code",
      "execution_count": null,
      "id": "1cc3ec8c",
      "metadata": {
        "id": "1cc3ec8c",
        "outputId": "c5cb8135-91a7-433d-cf3b-16505a7c3472"
      },
      "outputs": [
        {
          "data": {
            "text/plain": [
              "LinearRegression()"
            ]
          },
          "execution_count": 1098,
          "metadata": {},
          "output_type": "execute_result"
        }
      ],
      "source": [
        "clf.fit(X_train, y_train)"
      ]
    },
    {
      "cell_type": "code",
      "execution_count": null,
      "id": "903788b7",
      "metadata": {
        "id": "903788b7",
        "outputId": "35d5d92c-0574-4372-8f76-2cb32c8f2ae1"
      },
      "outputs": [
        {
          "data": {
            "text/plain": [
              "0.5677760700716632"
            ]
          },
          "execution_count": 1101,
          "metadata": {},
          "output_type": "execute_result"
        }
      ],
      "source": [
        "# accuracy \n",
        "clf.score(X_test, y_test)"
      ]
    },
    {
      "cell_type": "code",
      "execution_count": null,
      "id": "589e39ed",
      "metadata": {
        "id": "589e39ed"
      },
      "outputs": [],
      "source": [
        "def estimate_coef(x, y):\n",
        "\n",
        "    n = len(x)\n",
        "\n",
        "    # mean of x and y \n",
        "    m_x = np.mean(x)\n",
        "    m_y = np.mean(y)\n",
        "\n",
        "    # calculating cross-deviation and deviation about x ( ss->sum of squares)\n",
        "    ss_xy = np.sum(y*x) - n*m_y*m_x\n",
        "    ss_xx = np.sum(x*x) - n*m_x*m_x\n",
        "\n",
        "    # calculating regression coefficients\n",
        "    b_1 = ss_xy / ss_xx\n",
        "    b_0 = m_y - b_1*m_x\n",
        "\n",
        "    return (b_0, b_1)"
      ]
    },
    {
      "cell_type": "code",
      "execution_count": null,
      "id": "8068ac4d",
      "metadata": {
        "id": "8068ac4d"
      },
      "outputs": [],
      "source": [
        "\n",
        "def plot_regression_line(x, y, b):\n",
        "    # plotting the actual points as scatter plot\n",
        "    plt.scatter(x, y, color = \"m\", marker = \"o\", s = 30)\n",
        "\n",
        "    # predicted response \n",
        "    y_pred = b[0] + b[1]*x\n",
        "\n",
        "    # plotting the regression line\n",
        "    plt.plot(x, y_pred, color = \"red\")\n",
        "\n",
        "    # putting labels\n",
        "    plt.ylabel('Happines Score')\n",
        "    plt.xlabel('Explained by: GDP per capita')\n",
        "\n",
        "    # function to show plot\n",
        "    plt.show()\n"
      ]
    },
    {
      "cell_type": "code",
      "execution_count": null,
      "id": "91da6479",
      "metadata": {
        "id": "91da6479",
        "outputId": "3d1c533b-d4b1-41cc-a10c-34d8373628ec"
      },
      "outputs": [
        {
          "name": "stdout",
          "output_type": "stream",
          "text": [
            "Estimated coefficients:\n",
            "b_0 = 2.3728764053131406 \n",
            "b_1 = 2.232133628102828\n"
          ]
        },
        {
          "data": {
            "image/png": "[encoded data removed]",
            "text/plain": [
              "<Figure size 432x288 with 1 Axes>"
            ]
          },
          "metadata": {
            "needs_background": "light"
          },
          "output_type": "display_data"
        }
      ],
      "source": [
        "# plotting the linear regression \n",
        "x = X_train_1.values\n",
        "y = y_train.values\n",
        "\n",
        "b = estimate_coef(x, y)\n",
        "print(\"Estimated coefficients:\\nb_0 = {} \\\n",
        "\\nb_1 = {}\".format(b[0], b[1]))\n",
        "\n",
        "plot_regression_line(x, y, b)\n",
        "\n"
      ]
    },
    {
      "cell_type": "code",
      "execution_count": null,
      "id": "e1aebc35",
      "metadata": {
        "id": "e1aebc35",
        "outputId": "fb23c700-a7b7-47fe-b961-3be0eea3dd74"
      },
      "outputs": [
        {
          "data": {
            "image/png": "[encoded data removed]",
            "text/plain": [
              "<Figure size 432x288 with 1 Axes>"
            ]
          },
          "metadata": {
            "needs_background": "light"
          },
          "output_type": "display_data"
        },
        {
          "data": {
            "image/png": "[encoded data removed]",
            "text/plain": [
              "<Figure size 432x288 with 1 Axes>"
            ]
          },
          "metadata": {
            "needs_background": "light"
          },
          "output_type": "display_data"
        }
      ],
      "source": [
        "%matplotlib inline\n",
        "import matplotlib.pyplot as plt\n",
        "plt.figure()\n",
        "plt.scatter(X1, Y, label = 'Original y')\n",
        "plt.plot(X1, y_predict, label = 'predicted y', color=\"red\")\n",
        "plt.legend(loc = \"lower right\")\n",
        "plt.xlabel(\"Explained by GDP per capita\")\n",
        "plt.ylabel(\"Happines Score\")\n",
        "plt.show()\n",
        "plt.figure()\n",
        "plt.plot(range(0, len(cost)), cost)\n",
        "plt.show()"
      ]
    },
    {
      "cell_type": "code",
      "execution_count": null,
      "id": "7494b362",
      "metadata": {
        "id": "7494b362",
        "outputId": "84e2510d-b497-43fa-ec0a-3a6260440087"
      },
      "outputs": [
        {
          "name": "stdout",
          "output_type": "stream",
          "text": [
            "The linear model is: Y = 2.3729 + 2.2321X\n"
          ]
        }
      ],
      "source": [
        "# checking my model using sklearn\n",
        "x = X_train_1.values\n",
        "y = y_train.values\n",
        "reg = LinearRegression()\n",
        "reg.fit(x, y)\n",
        "print(\"The linear model is: Y = {:.5} + {:.5}X\".format(reg.intercept_[0], reg.coef_[0][0]))"
      ]
    },
    {
      "cell_type": "code",
      "execution_count": null,
      "id": "adcb6fcd",
      "metadata": {
        "id": "adcb6fcd"
      },
      "outputs": [],
      "source": [
        "# the folowing few codes describe what happens when we update L ( the learning rate)\n",
        "# we see how updating the learning rate effects convergence"
      ]
    },
    {
      "cell_type": "code",
      "execution_count": null,
      "id": "f48da93d",
      "metadata": {
        "id": "f48da93d",
        "outputId": "f1425fb6-078d-47c1-cddf-2b87a803672d"
      },
      "outputs": [
        {
          "name": "stdout",
          "output_type": "stream",
          "text": [
            "Theta_0: [0.10760036] \n",
            "Theta_1: [0.16061325] \n",
            "Learning rate: 1e-05\n"
          ]
        },
        {
          "data": {
            "image/png": "[encoded data removed]",
            "text/plain": [
              "<Figure size 432x288 with 1 Axes>"
            ]
          },
          "metadata": {
            "needs_background": "light"
          },
          "output_type": "display_data"
        }
      ],
      "source": [
        "# Building the model\n",
        "# this is a linear regression model by first priciples \n",
        "#as can be seen by updating the learning rate we can see how the model converges\n",
        "\n",
        "Theta_0 = 0\n",
        "Theta_1 = 0\n",
        "\n",
        "L = 0.00001  # The learning Rate (alpha) \n",
        "epochs = 1000  # The number of iterations to perform gradient descent\n",
        "\n",
        "n = float(len(X_train_1)) # Number of elements in X\n",
        "\n",
        "X_T = X_train_1.values\n",
        "Y_T = y_train.values\n",
        "# Performing Gradient Descent \n",
        "for i in range(epochs): \n",
        "    Y_pred = Theta_0 + Theta_1*X_T # The current predicted value of Y\n",
        "    \n",
        "    theta0 = (-2/n) * sum(Y_T - Y_pred)  \n",
        "    theta1 = (-2/n) * sum(X_T * (Y_T - Y_pred))\n",
        "\n",
        "    Theta_0 = Theta_0 - L * theta0 \n",
        "    Theta_1  = Theta_1 - L * theta1 \n",
        "    \n",
        "print (\"Theta_0:\", Theta_0, \"\\nTheta_1:\", Theta_1, \"\\nLearning rate:\", L)\n",
        "plt.scatter(X_T, Y_T, color = 'purple', marker = '*')\n",
        "plt.plot([min(X_T), max(X_T)], [min(Y_pred), max(Y_pred)], color='red')\n",
        "plt.xlabel(\"Explained by GDP\")\n",
        "plt.ylabel(\"Happiness score\")\n",
        "plt.show()"
      ]
    },
    {
      "cell_type": "code",
      "execution_count": null,
      "id": "58b8b701",
      "metadata": {
        "id": "58b8b701",
        "outputId": "1b07efa5-bccf-4265-b600-4923986d13b1"
      },
      "outputs": [
        {
          "name": "stdout",
          "output_type": "stream",
          "text": [
            "Theta_0: [0.82583399] \n",
            "Theta_1: [1.22933448] \n",
            "Learning rate: 0.0001\n"
          ]
        },
        {
          "data": {
            "image/png": "[encoded data removed]",
            "text/plain": [
              "<Figure size 432x288 with 1 Axes>"
            ]
          },
          "metadata": {
            "needs_background": "light"
          },
          "output_type": "display_data"
        }
      ],
      "source": [
        "# Building the model\n",
        "# this is a linear regression model by first priciples \n",
        "#as can be seen by updating the learning rate we can see how the model converges\n",
        "\n",
        "Theta_0 = 0\n",
        "Theta_1 = 0\n",
        "\n",
        "L = 0.0001  # The learning Rate (alpha) \n",
        "epochs = 1000  # The number of iterations to perform gradient descent\n",
        "\n",
        "n = float(len(X_train_1)) # Number of elements in X\n",
        "\n",
        "X_T = X_train_1.values\n",
        "Y_T = y_train.values\n",
        "# Performing Gradient Descent \n",
        "for i in range(epochs): \n",
        "    Y_pred = Theta_0 + Theta_1*X_T # The current predicted value of Y\n",
        "    \n",
        "    theta0 = (-2/n) * sum(Y_T - Y_pred)  \n",
        "    theta1 = (-2/n) * sum(X_T * (Y_T - Y_pred))\n",
        "\n",
        "    Theta_0 = Theta_0 - L * theta0 \n",
        "    Theta_1  = Theta_1 - L * theta1 \n",
        "    \n",
        "print (\"Theta_0:\", Theta_0, \"\\nTheta_1:\", Theta_1, \"\\nLearning rate:\", L)\n",
        "plt.scatter(X_T, Y_T, color = 'purple', marker = '*')\n",
        "plt.plot([min(X_T), max(X_T)], [min(Y_pred), max(Y_pred)], color='red')\n",
        "plt.xlabel(\"Explained by GDP\")\n",
        "plt.ylabel(\"Happiness score\")\n",
        "plt.show()"
      ]
    },
    {
      "cell_type": "code",
      "execution_count": null,
      "id": "945e27eb",
      "metadata": {
        "id": "945e27eb",
        "outputId": "fb6761df-7ca9-4247-b1c4-7186dbc9cb63"
      },
      "outputs": [
        {
          "name": "stdout",
          "output_type": "stream",
          "text": [
            "Theta_0: [1.81580666] \n",
            "Theta_1: [2.59498396] \n",
            "Learning rate: 0.001\n"
          ]
        },
        {
          "data": {
            "image/png": "[encoded data removed]",
            "text/plain": [
              "<Figure size 432x288 with 1 Axes>"
            ]
          },
          "metadata": {
            "needs_background": "light"
          },
          "output_type": "display_data"
        }
      ],
      "source": [
        "# Building the model\n",
        "# this is a linear regression model by first priciples \n",
        "#as can be seen by updating the learning rate we can see how the model converges\n",
        "\n",
        "Theta_0 = 0\n",
        "Theta_1 = 0\n",
        "\n",
        "L = 0.001  # The learning Rate (alpha) \n",
        "epochs = 1000  # The number of iterations to perform gradient descent\n",
        "\n",
        "n = float(len(X_train_1)) # Number of elements in X\n",
        "\n",
        "X_T = X_train_1.values\n",
        "Y_T = y_train.values\n",
        "# Performing Gradient Descent \n",
        "for i in range(epochs): \n",
        "    Y_pred = Theta_0 + Theta_1*X_T # The current predicted value of Y\n",
        "    \n",
        "    theta0 = (-2/n) * sum(Y_T - Y_pred)  \n",
        "    theta1 = (-2/n) * sum(X_T * (Y_T - Y_pred))\n",
        "\n",
        "    Theta_0 = Theta_0 - L * theta0 \n",
        "    Theta_1  = Theta_1 - L * theta1 \n",
        "    \n",
        "print (\"Theta_0:\", Theta_0, \"\\nTheta_1:\", Theta_1, \"\\nLearning rate:\", L)\n",
        "plt.scatter(X_T, Y_T, color = 'purple', marker = '*')\n",
        "plt.plot([min(X_T), max(X_T)], [min(Y_pred), max(Y_pred)], color='red')\n",
        "plt.xlabel(\"Explained by GDP\")\n",
        "plt.ylabel(\"Happiness score\")\n",
        "plt.show()"
      ]
    },
    {
      "cell_type": "code",
      "execution_count": null,
      "id": "41f787e7",
      "metadata": {
        "id": "41f787e7",
        "outputId": "10a11378-41de-407e-ec17-71fda60e5436"
      },
      "outputs": [
        {
          "name": "stdout",
          "output_type": "stream",
          "text": [
            "Theta_0: [2.16813223] \n",
            "Theta_1: [2.36804411] \n",
            "Learning rate: 0.01\n"
          ]
        },
        {
          "data": {
            "image/png": "[encoded data removed]",
            "text/plain": [
              "<Figure size 432x288 with 1 Axes>"
            ]
          },
          "metadata": {
            "needs_background": "light"
          },
          "output_type": "display_data"
        }
      ],
      "source": [
        "# Building the model\n",
        "# this is a linear regression model by first priciples \n",
        "#as can be seen by updating the learning rate we can see how the model converges\n",
        "\n",
        "Theta_0 = 0\n",
        "Theta_1 = 0\n",
        "\n",
        "L = 0.01  # The learning Rate (alpha) \n",
        "epochs = 1000  # The number of iterations to perform gradient descent\n",
        "\n",
        "n = float(len(X_train_1)) # Number of elements in X\n",
        "\n",
        "X_T = X_train_1.values\n",
        "Y_T = y_train.values\n",
        "# Performing Gradient Descent \n",
        "for i in range(epochs): \n",
        "    Y_pred = Theta_0 + Theta_1*X_T # The current predicted value of Y\n",
        "    \n",
        "    theta0 = (-2/n) * sum(Y_T - Y_pred)  \n",
        "    theta1 = (-2/n) * sum(X_T * (Y_T - Y_pred))\n",
        "\n",
        "    Theta_0 = Theta_0 - L * theta0 \n",
        "    Theta_1  = Theta_1 - L * theta1 \n",
        "    \n",
        "print (\"Theta_0:\", Theta_0, \"\\nTheta_1:\", Theta_1, \"\\nLearning rate:\", L)\n",
        "plt.scatter(X_T, Y_T, color = 'purple', marker = '*')\n",
        "plt.plot([min(X_T), max(X_T)], [min(Y_pred), max(Y_pred)], color='red')\n",
        "plt.xlabel(\"Explained by GDP\")\n",
        "plt.ylabel(\"Happiness score\")\n",
        "plt.show()"
      ]
    },
    {
      "cell_type": "code",
      "execution_count": null,
      "id": "b7640a6a",
      "metadata": {
        "id": "b7640a6a",
        "outputId": "3a414ab8-a9e2-41a4-8bea-f2fa59cd5262"
      },
      "outputs": [
        {
          "name": "stdout",
          "output_type": "stream",
          "text": [
            "Theta_0: [2.37286717] \n",
            "Theta_1: [2.23213976] \n",
            "Learning rate: 0.1\n"
          ]
        },
        {
          "data": {
            "image/png": "[encoded data removed]",
            "text/plain": [
              "<Figure size 432x288 with 1 Axes>"
            ]
          },
          "metadata": {
            "needs_background": "light"
          },
          "output_type": "display_data"
        }
      ],
      "source": [
        "# Building the model\n",
        "# this is a linear regression model by first priciples \n",
        "#as can be seen by updating the learning rate we can see how the model converges\n",
        "\n",
        "Theta_0 = 0\n",
        "Theta_1 = 0\n",
        "\n",
        "L = 0.1  # The learning Rate (alpha) \n",
        "epochs = 1000  # The number of iterations to perform gradient descent\n",
        "\n",
        "n = float(len(X_train_1)) # Number of elements in X\n",
        "\n",
        "X_T = X_train_1.values\n",
        "Y_T = y_train.values\n",
        "# Performing Gradient Descent \n",
        "for i in range(epochs): \n",
        "    Y_pred = Theta_0 + Theta_1*X_T # The current predicted value of Y\n",
        "    \n",
        "    theta0 = (-2/n) * sum(Y_T - Y_pred)  \n",
        "    theta1 = (-2/n) * sum(X_T * (Y_T - Y_pred))\n",
        "\n",
        "    Theta_0 = Theta_0 - L * theta0 \n",
        "    Theta_1  = Theta_1 - L * theta1 \n",
        "    \n",
        "print (\"Theta_0:\", Theta_0, \"\\nTheta_1:\", Theta_1, \"\\nLearning rate:\", L)\n",
        "plt.scatter(X_T, Y_T, color = 'purple', marker = '*')\n",
        "plt.plot([min(X_T), max(X_T)], [min(Y_pred), max(Y_pred)], color='red')\n",
        "plt.xlabel(\"Explained by GDP\")\n",
        "plt.ylabel(\"Happiness score\")\n",
        "plt.show()"
      ]
    },
    {
      "cell_type": "code",
      "execution_count": null,
      "id": "2fb50fe8",
      "metadata": {
        "id": "2fb50fe8"
      },
      "outputs": [],
      "source": [
        "# from the above we see that choosing L(alpha- learning rate) to be 0.1 is the best fit "
      ]
    },
    {
      "cell_type": "code",
      "execution_count": null,
      "id": "88eaf39f",
      "metadata": {
        "id": "88eaf39f"
      },
      "outputs": [],
      "source": [
        "#improving the model (feature scaling, feature standardization, regularisation)\n",
        "# improving the model by using these techniques helps the gradient decent converge much faster "
      ]
    },
    {
      "cell_type": "code",
      "execution_count": null,
      "id": "7b707f0a",
      "metadata": {
        "id": "7b707f0a",
        "outputId": "511a2ec0-c0f1-45b5-bb51-2ca6af7bc947"
      },
      "outputs": [
        {
          "name": "stdout",
          "output_type": "stream",
          "text": [
            "\n",
            " ORIGIONAL VALUES: \n",
            "\n",
            "      Explained by: GDP per capita  Explained by: Social support  \\\n",
            "30                          1.834                         1.052   \n",
            "83                          0.984                         0.784   \n",
            "59                          1.268                         0.912   \n",
            "2                           1.936                         1.320   \n",
            "124                         1.274                         0.786   \n",
            "..                            ...                           ...   \n",
            "87                          1.094                         0.442   \n",
            "39                          1.668                         1.220   \n",
            "58                          1.851                         0.886   \n",
            "140                         0.839                         0.848   \n",
            "88                          1.505                         0.863   \n",
            "\n",
            "     Explained by: Healthy life expectancy  \n",
            "30                                   0.801  \n",
            "83                                   0.499  \n",
            "59                                   0.514  \n",
            "2                                    0.803  \n",
            "124                                  0.197  \n",
            "..                                     ...  \n",
            "87                                   0.322  \n",
            "39                                   0.611  \n",
            "58                                   0.841  \n",
            "140                                  0.000  \n",
            "88                                   0.637  \n",
            "\n",
            "[102 rows x 3 columns]\n"
          ]
        }
      ],
      "source": [
        "# Performing feature scaling \n",
        "\n",
        "dataset.head()\n",
        "x = dataset[[\"Happiness score\",\n",
        "             \"Explained by: GDP per capita\", \n",
        "             \"Explained by: Social support\", \n",
        "             \"Explained by: Healthy life expectancy\"]]\n",
        "# Initialise the Scaler\n",
        "scaler = StandardScaler()\n",
        " \n",
        "# To scale data\n",
        "scaler.fit(X_train)\n",
        "print (\"\\n ORIGIONAL VALUES: \\n\\n\", X_train) "
      ]
    },
    {
      "cell_type": "code",
      "execution_count": null,
      "id": "7906b60c",
      "metadata": {
        "id": "7906b60c",
        "outputId": "26732803-58a1-42a9-9bcf-d4f525864081"
      },
      "outputs": [
        {
          "name": "stdout",
          "output_type": "stream",
          "text": [
            "\n",
            " VALUES AFTER MIN MAX SCALING: \n",
            "\n",
            " [[0.77120195 0.7969697  0.92494226]\n",
            " [0.25259304 0.59393939 0.57621247]\n",
            " [0.42586943 0.69090909 0.59353349]\n",
            " [0.83343502 1.         0.92725173]\n",
            " [0.4295302  0.59545455 0.22748268]\n",
            " [0.65954851 0.81818182 0.86374134]\n",
            " [0.00488103 0.5        0.22055427]\n",
            " [0.83038438 0.88257576 0.89376443]\n",
            " [0.54789506 0.80909091 0.76789838]\n",
            " [0.49908481 0.55454545 0.63279446]\n",
            " [0.75655888 0.94621212 0.88799076]\n",
            " [0.13117755 0.10075758 0.5334873 ]\n",
            " [0.44295302 0.79166667 0.74595843]\n",
            " [0.50457596 0.65530303 0.84872979]\n",
            " [0.50152532 0.37727273 0.72863741]\n",
            " [0.30445394 0.84015152 0.73672055]\n",
            " [0.07077486 0.31515152 0.31524249]\n",
            " [0.13300793 0.61287879 0.52771363]\n",
            " [0.21964613 0.43712121 0.35334873]\n",
            " [0.44051251 0.66439394 0.40877598]\n",
            " [0.27394753 0.55454545 0.58314088]\n",
            " [0.71873093 0.93409091 0.77136259]\n",
            " [0.13117755 0.47045455 0.426097  ]\n",
            " [0.6052471  0.87651515 0.72632794]\n",
            " [0.51311775 0.81893939 0.67321016]\n",
            " [0.0738255  0.79015152 0.44341801]\n",
            " [0.68273337 0.71060606 0.71593533]\n",
            " [0.81391092 0.74469697 0.86258661]\n",
            " [0.42403905 0.58181818 0.70092379]\n",
            " [0.82611348 0.82424242 0.8960739 ]\n",
            " [0.13544844 0.36590909 0.3591224 ]\n",
            " [0.         0.42424242 0.37644342]\n",
            " [0.78340451 0.77954545 0.72170901]\n",
            " [0.86150092 0.89545455 0.72517321]\n",
            " [0.75960952 0.67272727 0.94572748]\n",
            " [0.39597315 0.82727273 0.69284065]\n",
            " [0.41610738 0.70606061 0.70554273]\n",
            " [0.88834655 0.92878788 0.94919169]\n",
            " [0.72483221 0.88939394 0.8221709 ]\n",
            " [0.55277608 0.71439394 0.69976905]\n",
            " [0.82367297 0.91212121 0.92725173]\n",
            " [0.59060403 0.75984848 0.66628176]\n",
            " [0.29225137 0.31287879 0.43187067]\n",
            " [0.64368517 0.88106061 0.73903002]\n",
            " [0.51250763 0.56136364 0.74133949]\n",
            " [0.95118975 0.88333333 0.89953811]\n",
            " [0.12751678 0.4280303  0.36951501]\n",
            " [0.80292862 0.9        0.90415704]\n",
            " [0.47589994 0.45151515 0.75750577]\n",
            " [0.54179378 0.8280303  0.64665127]\n",
            " [0.32336791 0.65530303 0.51963048]\n",
            " [0.69249542 0.89621212 0.8187067 ]\n",
            " [0.81147041 0.91136364 0.89145497]\n",
            " [0.35265406 0.725      0.60161663]\n",
            " [0.06101281 0.48863636 0.43648961]\n",
            " [0.70896888 0.925      0.73556582]\n",
            " [0.53813301 0.70378788 0.83140878]\n",
            " [0.8438072  0.94166667 0.89722864]\n",
            " [0.28553996 0.6280303  0.5669746 ]\n",
            " [0.2300183  0.52272727 0.31177829]\n",
            " [0.59792556 0.82272727 0.75981524]\n",
            " [0.5424039  0.55909091 0.45727483]\n",
            " [0.83892617 0.91363636 0.90877598]\n",
            " [0.46003661 0.54848485 0.77944573]\n",
            " [0.75960952 0.95454545 0.8256351 ]\n",
            " [0.54728493 0.46363636 0.68706697]\n",
            " [0.4295302  0.62954545 0.60277136]\n",
            " [1.         0.875      0.91224018]\n",
            " [0.77181208 0.825      1.        ]\n",
            " [0.69859671 0.83863636 0.8187067 ]\n",
            " [0.12263575 0.24393939 0.41570439]\n",
            " [0.80658938 0.9530303  0.89491917]\n",
            " [0.7114094  0.93333333 0.81639723]\n",
            " [0.75533862 0.91742424 0.9330254 ]\n",
            " [0.72605247 0.81666667 0.89722864]\n",
            " [0.22086638 0.04848485 0.38683603]\n",
            " [0.4771202  0.66590909 0.81755196]\n",
            " [0.7461867  0.93333333 0.84064665]\n",
            " [0.87126297 0.74242424 0.73094688]\n",
            " [0.12629652 0.66287879 0.48267898]\n",
            " [0.61195851 0.775      0.76096998]\n",
            " [0.48322148 0.71893939 0.65704388]\n",
            " [0.05613179 0.38333333 0.25981524]\n",
            " [0.69127517 0.74242424 0.89376443]\n",
            " [0.36424649 0.28484848 0.54387991]\n",
            " [0.77364246 0.88560606 0.91108545]\n",
            " [0.63758389 0.89393939 0.77598152]\n",
            " [0.38926174 0.2030303  0.65242494]\n",
            " [0.24161074 0.76136364 0.59815242]\n",
            " [0.68029286 0.82954545 0.67667436]\n",
            " [0.20073215 0.36060606 0.48960739]\n",
            " [0.78218426 0.93560606 0.86836028]\n",
            " [0.5118975  0.85606061 0.72055427]\n",
            " [0.55765711 0.99924242 0.59584296]\n",
            " [0.80964002 0.82954545 0.84642032]\n",
            " [0.5271507  0.62121212 0.77136259]\n",
            " [0.11470409 0.         0.33371824]\n",
            " [0.31970714 0.33484848 0.37182448]\n",
            " [0.66992068 0.92424242 0.70554273]\n",
            " [0.78157413 0.67121212 0.97113164]\n",
            " [0.16412447 0.64242424 0.        ]\n",
            " [0.5704698  0.65378788 0.73556582]]\n"
          ]
        }
      ],
      "source": [
        "# feature scaling implementation \n",
        "#min-max scalar\n",
        "\n",
        "min_max_scaler = preprocessing.MinMaxScaler(feature_range =(0, 1)) \n",
        "scaled_x= min_max_scaler.fit_transform(X_train) \n",
        "print (\"\\n VALUES AFTER MIN MAX SCALING: \\n\\n\", scaled_x) "
      ]
    },
    {
      "cell_type": "code",
      "execution_count": null,
      "id": "aeedc667",
      "metadata": {
        "id": "aeedc667",
        "outputId": "d15763a7-84e6-496f-cbba-781f0eea5018"
      },
      "outputs": [
        {
          "name": "stdout",
          "output_type": "stream",
          "text": [
            "Theta_0: 2.3728764053131406 \n",
            "Theta_1: 2.232133628102828 \n",
            "Learning rate: 0.1\n"
          ]
        },
        {
          "data": {
            "image/png": "[encoded data removed]",
            "text/plain": [
              "<Figure size 432x288 with 1 Axes>"
            ]
          },
          "metadata": {
            "needs_background": "light"
          },
          "output_type": "display_data"
        }
      ],
      "source": [
        "# comparison between scaled and unscaled plots \n",
        "plot_x = scaled_x[:,0] # by GDP\n",
        "plot_y = y_train.values #happiness\n",
        "\n",
        "# plot after scaling\n",
        "plt.scatter(plot_x, plot_y, color='blue', marker='*')  \n",
        "plt.plot([min(plot_x), max(plot_x)], [min(plot_y), max(plot_y)], color='green') #plotting the regression line \n",
        "\n",
        "print (\"Theta_0:\", b[0], \"\\nTheta_1:\", b[1], \"\\nLearning rate:\", L)\n",
        "\n",
        "plt.scatter(X_train_1, y_train, color = 'purple', marker = '*')\n",
        "plt.plot([min(X_train_1.values), max(X_train_1.values)], [min(plot_y), max(plot_y)], color = \"red\")#plotting the regression line \n",
        "plt.xlabel(\"Explained by GDP\")\n",
        "plt.ylabel(\"Happiness score\")\n",
        "plt.show()"
      ]
    },
    {
      "cell_type": "code",
      "execution_count": null,
      "id": "e3647e0f",
      "metadata": {
        "id": "e3647e0f",
        "outputId": "3cab4201-0f87-4d4c-9606-b3b988bbe2a3"
      },
      "outputs": [
        {
          "data": {
            "image/png": "[encoded data removed]",
            "text/plain": [
              "<Figure size 432x288 with 1 Axes>"
            ]
          },
          "metadata": {
            "needs_background": "light"
          },
          "output_type": "display_data"
        }
      ],
      "source": [
        "#scaled plot \n",
        "plt.scatter(plot_x, plot_y, color='blue', marker='*') # plot after scaling \n",
        "plt.plot([min(plot_x), max(plot_x)], [min(plot_y), max(plot_y)], color='green')\n",
        "plt.xlabel(\"Explained by GDP\")\n",
        "plt.ylabel(\"Happiness score\")\n",
        "plt.show()"
      ]
    },
    {
      "cell_type": "code",
      "execution_count": null,
      "id": "b7c5329b",
      "metadata": {
        "id": "b7c5329b",
        "outputId": "aa229570-d544-4dea-e98d-9ad65d13f677"
      },
      "outputs": [
        {
          "name": "stdout",
          "output_type": "stream",
          "text": [
            "\n",
            "\n",
            " VALUES AFTER STANDARDIZATION : \n",
            "\n",
            " [[ 9.85548696e-01  4.75236401e-01  1.19274783e+00]\n",
            " [-1.05380957e+00 -4.33674412e-01 -5.02200924e-01]\n",
            " [-3.72423984e-01  4.32244680e-04 -4.18014728e-01]\n",
            " [ 1.23027169e+00  1.38414721e+00  1.20397266e+00]\n",
            " [-3.58028514e-01 -4.26891496e-01 -2.19714968e+00]\n",
            " [ 5.46486858e-01  5.70197232e-01  8.95289935e-01]\n",
            " [-2.02790305e+00 -8.54215236e-01 -2.23082416e+00]\n",
            " [ 1.21827546e+00  8.58471184e-01  1.04121268e+00]\n",
            " [ 1.07425020e-01  5.29499733e-01  4.29459649e-01]\n",
            " [-8.45145819e-02 -6.10030242e-01 -2.27192683e-01]\n",
            " [ 9.27966816e-01  1.14335368e+00  1.01315061e+00]\n",
            " [-1.53125933e+00 -2.64151374e+00 -7.09860209e-01]\n",
            " [-3.05245124e-01  4.51496193e-01  3.22823800e-01]\n",
            " [-6.29213767e-02 -1.58966293e-01  8.22328565e-01]\n",
            " [-7.49176018e-02 -1.40363147e+00  2.38637604e-01]\n",
            " [-8.49873743e-01  6.68549522e-01  2.77924495e-01]\n",
            " [-1.76878458e+00 -1.68173105e+00 -1.77060628e+00]\n",
            " [-1.52406159e+00 -3.48887956e-01 -7.37922274e-01]\n",
            " [-1.18336880e+00 -1.13570627e+00 -1.58539665e+00]\n",
            " [-3.14842104e-01 -1.18268794e-01 -1.31600082e+00]\n",
            " [-9.69835994e-01 -6.10030242e-01 -4.68526446e-01]\n",
            " [ 7.79213625e-01  1.08909035e+00  4.46296888e-01]\n",
            " [-1.53125933e+00 -9.86482108e-01 -1.23181463e+00]\n",
            " [ 3.32954051e-01  8.31339518e-01  2.27412778e-01]\n",
            " [-2.93319465e-02  5.73588690e-01 -3.07582247e-02]\n",
            " [-1.75678836e+00  4.44713277e-01 -1.14762843e+00]\n",
            " [ 6.37658169e-01  8.86101594e-02  1.76901060e-01]\n",
            " [ 1.15349585e+00  2.41225781e-01  8.89677522e-01]\n",
            " [-3.79621719e-01 -4.87937745e-01  1.03939690e-01]\n",
            " [ 1.20148075e+00  5.97328898e-01  1.05243750e+00]\n",
            " [-1.51446461e+00 -1.45450335e+00 -1.55733459e+00]\n",
            " [-2.04709701e+00 -1.19336106e+00 -1.47314839e+00]\n",
            " [ 1.03353360e+00  3.97232861e-01  2.04963125e-01]\n",
            " [ 1.34063696e+00  9.16125974e-01  2.21800364e-01]\n",
            " [ 9.39963041e-01 -8.09627535e-02  1.29377126e+00]\n",
            " [-4.89986990e-01  6.10894731e-01  6.46527979e-02]\n",
            " [-4.10811904e-01  6.82614098e-02  1.26389342e-01]\n",
            " [ 1.44620374e+00  1.06535014e+00  1.31060850e+00]\n",
            " [ 8.03206075e-01  8.88994308e-01  6.93243064e-01]\n",
            " [ 1.26618980e-01  1.05567451e-01  9.83272764e-02]\n",
            " [ 1.19188377e+00  9.90738056e-01  1.20397266e+00]\n",
            " [ 2.75372171e-01  3.09054946e-01 -6.44327032e-02]\n",
            " [-8.97858643e-01 -1.69190543e+00 -1.20375256e+00]\n",
            " [ 4.84106487e-01  8.51688267e-01  2.89149322e-01]\n",
            " [-3.17311915e-02 -5.79507117e-01  3.00374148e-01]\n",
            " [ 1.69332598e+00  8.61862642e-01  1.06927474e+00]\n",
            " [-1.54565480e+00 -1.17640377e+00 -1.50682287e+00]\n",
            " [ 1.11030944e+00  9.36474724e-01  1.09172439e+00]\n",
            " [-1.75685893e-01 -1.07126856e+00  3.78947931e-01]\n",
            " [ 8.34325694e-02  6.14286189e-01 -1.59843726e-01]\n",
            " [-7.75497147e-01 -1.58966293e-01 -7.77209166e-01]\n",
            " [ 6.76046089e-01  9.19517433e-01  6.76405825e-01]\n",
            " [ 1.14389887e+00  9.87346598e-01  1.02998785e+00]\n",
            " [-6.60333386e-01  1.53047866e-01 -3.78727836e-01]\n",
            " [-1.80717251e+00 -9.05087110e-01 -1.18130291e+00]\n",
            " [ 7.40825704e-01  1.04839285e+00  2.72312082e-01]\n",
            " [ 6.90370993e-02  5.80870351e-02  7.38142369e-01]\n",
            " [ 1.27105885e+00  1.12300493e+00  1.05804992e+00]\n",
            " [-9.24250338e-01 -2.81058791e-01 -5.47100229e-01]\n",
            " [-1.14258164e+00 -7.52471489e-01 -1.78744352e+00]\n",
            " [ 3.04163111e-01  5.90545982e-01  3.90172757e-01]\n",
            " [ 8.58318144e-02 -5.89681492e-01 -1.08027947e+00]\n",
            " [ 1.25186489e+00  9.97520973e-01  1.11417405e+00]\n",
            " [-2.38066263e-01 -6.37161908e-01  4.85583780e-01]\n",
            " [ 9.39963041e-01  1.18065972e+00  7.10080303e-01]\n",
            " [ 1.05025775e-01 -1.01700523e+00  3.65907324e-02]\n",
            " [-3.58028514e-01 -2.74275874e-01 -3.73115423e-01]\n",
            " [ 1.88526558e+00  8.24556601e-01  1.13101129e+00]\n",
            " [ 9.87947941e-01  6.00720356e-01  1.55755468e+00]\n",
            " [ 7.00038539e-01  6.61766605e-01  6.76405825e-01]\n",
            " [-1.56484876e+00 -2.00052813e+00 -1.28232634e+00]\n",
            " [ 1.12470491e+00  1.17387680e+00  1.04682509e+00]\n",
            " [ 7.50422685e-01  1.08569889e+00  6.65180999e-01]\n",
            " [ 9.23168326e-01  1.01447826e+00  1.23203472e+00]\n",
            " [ 8.08004565e-01  5.63414316e-01  1.05804992e+00]\n",
            " [-1.17857031e+00 -2.87552436e+00 -1.42263667e+00]\n",
            " [-1.70887403e-01 -1.11485878e-01  6.70793412e-01]\n",
            " [ 8.87179651e-01  1.08569889e+00  7.83041674e-01]\n",
            " [ 1.37902488e+00  2.31051406e-01  2.49862430e-01]\n",
            " [-1.55045329e+00 -1.25051711e-01 -9.56806385e-01]\n",
            " [ 3.59345747e-01  3.76884111e-01  3.95785170e-01]\n",
            " [-1.46894952e-01  1.25916200e-01 -1.09332008e-01]\n",
            " [-1.82636647e+00 -1.37649981e+00 -2.04000211e+00]\n",
            " [ 6.71247599e-01  2.31051406e-01  1.04121268e+00]\n",
            " [-6.14747731e-01 -1.81738938e+00 -6.59348491e-01]\n",
            " [ 9.95145676e-01  8.72037017e-01  1.12539887e+00]\n",
            " [ 4.60114037e-01  9.09343058e-01  4.68746540e-01]\n",
            " [-5.16378685e-01 -2.18366687e+00 -1.31781660e-01]\n",
            " [-1.09699598e+00  3.15837863e-01 -3.95565076e-01]\n",
            " [ 6.28061189e-01  6.21069106e-01 -1.39209854e-02]\n",
            " [-1.25774540e+00 -1.47824356e+00 -9.23131906e-01]\n",
            " [ 1.02873511e+00  1.09587326e+00  9.17739588e-01]\n",
            " [-3.41304365e-02  7.39770145e-01  1.99350712e-01]\n",
            " [ 1.45812940e-01  1.38075576e+00 -4.06789902e-01]\n",
            " [ 1.13670113e+00  6.21069106e-01  8.11103739e-01]\n",
            " [ 2.58506890e-02 -3.11581915e-01  4.46296888e-01]\n",
            " [-1.59603894e+00 -3.09257769e+00 -1.68080767e+00]\n",
            " [-7.89892617e-01 -1.59355314e+00 -1.49559804e+00]\n",
            " [ 5.87274023e-01  1.04500139e+00  1.26389342e-01]\n",
            " [ 1.02633586e+00 -8.77456700e-02  1.41724435e+00]\n",
            " [-1.40170010e+00 -2.16621084e-01 -3.30279506e+00]\n",
            " [ 1.96197085e-01 -1.65749210e-01  2.72312082e-01]]\n"
          ]
        }
      ],
      "source": [
        "# feature standardisation implementation \n",
        "\n",
        "Standardisation = preprocessing.StandardScaler() \n",
        "standardized_x= Standardisation.fit_transform(X_train) \n",
        "print (\"\\n\\n VALUES AFTER STANDARDIZATION : \\n\\n\", standardized_x) "
      ]
    },
    {
      "cell_type": "code",
      "execution_count": null,
      "id": "69922947",
      "metadata": {
        "id": "69922947",
        "outputId": "e93daaa4-6aac-449f-9006-b697d291b01d"
      },
      "outputs": [
        {
          "name": "stdout",
          "output_type": "stream",
          "text": [
            "Theta_0: 2.3728764053131406 \n",
            "Theta_1: 2.232133628102828 \n",
            "Learning rate: 0.1\n"
          ]
        },
        {
          "data": {
            "image/png": "[encoded data removed]",
            "text/plain": [
              "<Figure size 432x288 with 1 Axes>"
            ]
          },
          "metadata": {
            "needs_background": "light"
          },
          "output_type": "display_data"
        }
      ],
      "source": [
        "# plot after feature standardisation compared with original plot\n",
        "\n",
        "# comparison between scaled and unscaled plots \n",
        "plot_x = standardized_x[:,0] # by GDP\n",
        "plot_y = y_train.values #happiness\n",
        "\n",
        "# plot after scaling\n",
        "plt.scatter(plot_x, plot_y, color='orange', marker='*')  \n",
        "plt.plot([min(plot_x), max(plot_x)], [min(plot_y), max(plot_y)], color='green') #plotting the regression line \n",
        "\n",
        "print (\"Theta_0:\", b[0], \"\\nTheta_1:\", b[1], \"\\nLearning rate:\", L)\n",
        "\n",
        "plt.scatter(X_train_1, y_train, color = 'purple', marker = '*')\n",
        "plt.plot([min(X_train_1.values), max(X_train_1.values)], [min(plot_y), max(plot_y)], color = \"red\")#plotting the regression line \n",
        "plt.xlabel(\"Explained by GDP\")\n",
        "plt.ylabel(\"Happiness score\")\n",
        "plt.show()"
      ]
    },
    {
      "cell_type": "code",
      "execution_count": null,
      "id": "e8389769",
      "metadata": {
        "id": "e8389769",
        "outputId": "47fd1fe2-43e4-479a-abf5-69717621f75a"
      },
      "outputs": [
        {
          "data": {
            "image/png": "[encoded data removed]",
            "text/plain": [
              "<Figure size 432x288 with 1 Axes>"
            ]
          },
          "metadata": {
            "needs_background": "light"
          },
          "output_type": "display_data"
        }
      ],
      "source": [
        "# plot after feature standardisation\n",
        "\n",
        "plot_y = y_train.values #happiness\n",
        "plot_x = standardized_x[:,0] # by GDP\n",
        "\n",
        "plt.scatter(plot_x, plot_y, color='orange', marker='*') # plot after standardisation \n",
        "plt.plot([min(plot_x), max(plot_x)], [min(plot_y), max(plot_y)], color='green')\n",
        "plt.xlabel(\"Explained by GDP\")\n",
        "plt.ylabel(\"Happiness score\")\n",
        "\n",
        "plt.show()"
      ]
    },
    {
      "cell_type": "code",
      "execution_count": null,
      "id": "defd8b13",
      "metadata": {
        "id": "defd8b13"
      },
      "outputs": [],
      "source": [
        "# regularization implementation\n",
        "# the idea behind regularization is to automatically control the complexity of the learned hypothesis"
      ]
    }
  ],
  "metadata": {
    "kernelspec": {
      "display_name": "Python 3",
      "language": "python",
      "name": "python3"
    },
    "language_info": {
      "codemirror_mode": {
        "name": "ipython",
        "version": 3
      },
      "file_extension": ".py",
      "mimetype": "text/x-python",
      "name": "python",
      "nbconvert_exporter": "python",
      "pygments_lexer": "ipython3",
      "version": "3.8.8"
    },
    "colab": {
      "name": "Assignment_1B.ipynb",
      "provenance": [],
      "collapsed_sections": [],
      "include_colab_link": true
    }
  },
  "nbformat": 4,
  "nbformat_minor": 5
}